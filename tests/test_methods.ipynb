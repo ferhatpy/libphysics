{
 "cells": [
  {
   "cell_type": "markdown",
   "id": "885aa10b",
   "metadata": {},
   "source": [
    "## test_methods.py"
   ]
  },
  {
   "cell_type": "code",
   "execution_count": 2,
   "id": "2424cc03",
   "metadata": {},
   "outputs": [
    {
     "name": "stdout",
     "output_type": "stream",
     "text": [
      "3.8.10 (default, Nov 22 2023, 10:22:35) \n",
      "[GCC 9.4.0]\n",
      "['/usr/lib/python38.zip', '/usr/lib/python3.8', '/usr/lib/python3.8/lib-dynload', '', '/home/yubuntu/.local/lib/python3.8/site-packages', '/usr/local/lib/python3.8/dist-packages', '/usr/lib/python3/dist-packages', '/usr/lib/python3.8/dist-packages', '../src', '../../libpython/src']\n"
     ]
    }
   ],
   "source": [
    "\"\"\"\n",
    "test_method.py connected to test_method.ipynb \n",
    "via \"jupytext\" light pairing.\n",
    "\n",
    "Example: ostat\n",
    "============= \n",
    "template.class_type = \"micro_canonical_discrete_distinguihable\"\n",
    "template.__init__()\n",
    "template.verbose = False\n",
    "[mu,B] = symbols('mu B', real=True)\n",
    "xreplaces = {g:1, engF:mu*B*(2*i-3), j:1, n:2}\n",
    "\n",
    "# 4 lines\n",
    "commands = [\"xreplace\", \"ostat.Zsp\", xreplaces]\n",
    "template.process(commands)\n",
    "Zsp = simplify(template.result.doit())\n",
    "display(Zsp)\n",
    "\n",
    "# Deep copy to create new instances of obranch class.\n",
    "import copy\n",
    "ostat2 = copy.deepcopy(ostat)\n",
    "\"\"\"\n",
    "import copy\n",
    "import sys\n",
    "import os\n",
    "lstPaths = [\"../src\"]\n",
    "for ipath in lstPaths:\n",
    "    if ipath not in sys.path:\n",
    "        sys.path.append(ipath) \n",
    "from sympy import *\n",
    "from sympy.abc import *\n",
    "from sympy.vector import CoordSys3D\n",
    "from libsympy import *\n",
    "from methods import *\n",
    "# Execute jupyter-notebook related commands.\n",
    "#exec(open('libnotebook.py').read())\n",
    "print(sys.version); print(sys.path)"
   ]
  },
  {
   "cell_type": "markdown",
   "id": "647261e2",
   "metadata": {},
   "source": [
    "### Settings"
   ]
  },
  {
   "cell_type": "code",
   "execution_count": 37,
   "id": "35192b60",
   "metadata": {},
   "outputs": [],
   "source": [
    "### Settings\n",
    "class sets:\n",
    "    \"\"\"\n",
    "    Setttings class.\n",
    "        \n",
    "    Instead of settings class, settings nametuble might be used.\n",
    "    Settings = namedtuple(\"Settings\", \"type dropinf delta\")\n",
    "    sets = Settings(type=\"symbolic\", dropinf=True, delta=0.1)\n",
    "    \"\"\"\n",
    "    global dictflow, test_all\n",
    "    \n",
    "    def __init__(self):\n",
    "        pass\n",
    "    \n",
    "    # File settings\n",
    "    input_dir  = \"input/mechanics\"\n",
    "    output_dir = \"output/mechanics\"\n",
    "    \n",
    "    # Plotting settings\n",
    "    plot_time_scale = {1:\"xy\", 2:\"xz\", 3:\"yz\"}[3]\n",
    "    \n",
    "    # Execution settings.\n",
    "    test_all = {0:False, 1:True}[1]\n",
    "    dictflow = dict(\n",
    "        examples = {13:\"e1.3\",14:\"e1.4\",15:\"e1.5\",16:\"e1.6\",17:\"vector_products\"},\n",
    "        problems = {13:\"p1.3\"})\n",
    "    flow = [dictflow[\"examples\"][i] for i in [17]]\n",
    "    if test_all: flow = flatten([list(dictflow[i].values()) for i in dictflow.keys()])\n",
    "\n",
    "global C\n",
    "C = CoordSys3D('C')\n",
    "[x, y, z] = [C.x, C.y, C.z] # x^, y^, z^ vectors.    "
   ]
  },
  {
   "cell_type": "code",
   "execution_count": 38,
   "id": "6d01c07d",
   "metadata": {},
   "outputs": [
    {
     "name": "stdout",
     "output_type": "stream",
     "text": [
      "Test of the ['e1.3', 'e1.4', 'e1.5', 'e1.6', 'vector_products', 'p1.3'].\n"
     ]
    }
   ],
   "source": [
    "print(\"Test of the {0}.\".format(sets.flow))"
   ]
  },
  {
   "cell_type": "markdown",
   "id": "348f26a3",
   "metadata": {},
   "source": [
    "### get_formulary"
   ]
  },
  {
   "cell_type": "code",
   "execution_count": null,
   "id": "c5ecc1d9",
   "metadata": {},
   "outputs": [],
   "source": [
    "### get_formulary\n",
    "if \"get_formulary\" in sets.flow:\n",
    "#    omech = mechanics() # DO NOT create any instance.\n",
    "    ometh.__init__()\n",
    "    ometh.get_formulary()\n",
    "    ometh.get_formulary(style=\"eq\")"
   ]
  },
  {
   "cell_type": "markdown",
   "id": "04d7a028",
   "metadata": {},
   "source": [
    "### get_subformulary"
   ]
  },
  {
   "cell_type": "code",
   "execution_count": null,
   "id": "a628c925",
   "metadata": {},
   "outputs": [],
   "source": [
    "if \"get_subformulary\" in sets.flow:\n",
    "    ometh.__init__()\n",
    "    ometh.get_subformulary()    "
   ]
  },
  {
   "cell_type": "markdown",
   "id": "a566a03e",
   "metadata": {},
   "source": [
    "### Triple Vector Product"
   ]
  },
  {
   "cell_type": "code",
   "execution_count": 36,
   "id": "6eb22daa",
   "metadata": {},
   "outputs": [
    {
     "data": {
      "text/plain": [
       "'(A x B) x C='"
      ]
     },
     "metadata": {},
     "output_type": "display_data"
    },
    {
     "data": {
      "image/png": "[encoded data removed]",
      "text/latex": [
       "$\\displaystyle \\left(- C_{y} \\left(A_{x} B_{y} - A_{y} B_{x}\\right) + C_{z} \\left(- A_{x} B_{z} + A_{z} B_{x}\\right)\\right)\\mathbf{\\hat{i}_{C}} + \\left(C_{x} \\left(A_{x} B_{y} - A_{y} B_{x}\\right) - C_{z} \\left(A_{y} B_{z} - A_{z} B_{y}\\right)\\right)\\mathbf{\\hat{j}_{C}} + \\left(- C_{x} \\left(- A_{x} B_{z} + A_{z} B_{x}\\right) + C_{y} \\left(A_{y} B_{z} - A_{z} B_{y}\\right)\\right)\\mathbf{\\hat{k}_{C}}$"
      ],
      "text/plain": [
       "(-C_y⋅(Aₓ⋅B_y - A_y⋅Bₓ) + C_z⋅(-Aₓ⋅B_z + A_z⋅Bₓ)) i_C + (Cₓ⋅(Aₓ⋅B_y - A_y⋅Bₓ) - C_z⋅(A_y⋅B_z - A_z⋅B_y)) j_C + (-Cₓ⋅(-Aₓ⋅B_z + A_z⋅Bₓ) + C_y⋅(A_y⋅B_z \n",
       "- A_z⋅B_y)) k_C"
      ]
     },
     "metadata": {},
     "output_type": "display_data"
    },
    {
     "data": {
      "text/plain": [
       "'A x (B x C)='"
      ]
     },
     "metadata": {},
     "output_type": "display_data"
    },
    {
     "name": "stdout",
     "output_type": "stream",
     "text": [
      "\n"
     ]
    },
    {
     "data": {
      "image/png": "[encoded data removed]",
      "text/latex": [
       "$\\displaystyle \\left(A_{y} \\left(B_{x} C_{y} - B_{y} C_{x}\\right) + A_{z} \\left(B_{x} C_{z} - B_{z} C_{x}\\right)\\right)\\mathbf{\\hat{i}_{C}} + \\left(A_{x} \\left(- B_{x} C_{y} + B_{y} C_{x}\\right) + A_{z} \\left(B_{y} C_{z} - B_{z} C_{y}\\right)\\right)\\mathbf{\\hat{j}_{C}} + \\left(A_{x} \\left(- B_{x} C_{z} + B_{z} C_{x}\\right) + A_{y} \\left(- B_{y} C_{z} + B_{z} C_{y}\\right)\\right)\\mathbf{\\hat{k}_{C}}$"
      ],
      "text/plain": [
       "(A_y⋅(Bₓ⋅C_y - B_y⋅Cₓ) + A_z⋅(Bₓ⋅C_z - B_z⋅Cₓ)) i_C + (Aₓ⋅(-Bₓ⋅C_y + B_y⋅Cₓ) + A_z⋅(B_y⋅C_z - B_z⋅C_y)) j_C + (Aₓ⋅(-Bₓ⋅C_z + B_z⋅Cₓ) + A_y⋅(-B_y⋅C_z +\n",
       " B_z⋅C_y)) k_C"
      ]
     },
     "metadata": {},
     "output_type": "display_data"
    },
    {
     "data": {
      "text/plain": [
       "'lhs.equals(rhs)'"
      ]
     },
     "metadata": {},
     "output_type": "display_data"
    },
    {
     "name": "stdout",
     "output_type": "stream",
     "text": [
      "\n"
     ]
    },
    {
     "data": {
      "text/plain": [
       "None"
      ]
     },
     "metadata": {},
     "output_type": "display_data"
    },
    {
     "data": {
      "text/plain": [
       "'simplify(lhs-rhs)'"
      ]
     },
     "metadata": {},
     "output_type": "display_data"
    },
    {
     "name": "stdout",
     "output_type": "stream",
     "text": [
      "\n"
     ]
    },
    {
     "data": {
      "image/png": "[encoded data removed]",
      "text/latex": [
       "$\\displaystyle \\left(- A_{x} B_{y} C_{y} - A_{x} B_{z} C_{z} + A_{y} B_{y} C_{x} + A_{z} B_{z} C_{x}\\right)\\mathbf{\\hat{i}_{C}} + \\left(A_{x} B_{x} C_{y} - A_{y} B_{x} C_{x} - A_{y} B_{z} C_{z} + A_{z} B_{z} C_{y}\\right)\\mathbf{\\hat{j}_{C}} + \\left(A_{x} B_{x} C_{z} + A_{y} B_{y} C_{z} - A_{z} B_{x} C_{x} - A_{z} B_{y} C_{y}\\right)\\mathbf{\\hat{k}_{C}}$"
      ],
      "text/plain": [
       "(-Aₓ⋅B_y⋅C_y - Aₓ⋅B_z⋅C_z + A_y⋅B_y⋅Cₓ + A_z⋅B_z⋅Cₓ) i_C + (Aₓ⋅Bₓ⋅C_y - A_y⋅Bₓ⋅Cₓ - A_y⋅B_z⋅C_z + A_z⋅B_z⋅C_y) j_C + (Aₓ⋅Bₓ⋅C_z + A_y⋅B_y⋅C_z - A_z⋅Bₓ\n",
       "⋅Cₓ - A_z⋅B_y⋅C_y) k_C"
      ]
     },
     "metadata": {},
     "output_type": "display_data"
    },
    {
     "data": {
      "text/plain": [
       "'xreplace ometh.dot_product {A_x: 3, A_y: 3, A_z: 3, B_x: 3, B_y: 3, B_z: 3, C_x: C_x, C_y: C_y, C_z: C_z}'"
      ]
     },
     "metadata": {},
     "output_type": "display_data"
    },
    {
     "name": "stdout",
     "output_type": "stream",
     "text": [
      "Eq(C, A_x*B_x + A_y*B_y + A_z*B_z)(xreplace, {A_x: 3, A_y: 3, A_z: 3, B_x: 3, B_y: 3, B_z: 3, C_x: C_x, C_y: C_y, C_z: C_z})\n"
     ]
    },
    {
     "data": {
      "image/png": "[encoded data removed]",
      "text/latex": [
       "$\\displaystyle C = 27$"
      ],
      "text/plain": [
       "C = 27"
      ]
     },
     "metadata": {},
     "output_type": "display_data"
    },
    {
     "data": {
      "text/plain": [
       "'A= 3*C.i + 3*C.j + 3*C.k'"
      ]
     },
     "metadata": {},
     "output_type": "display_data"
    },
    {
     "data": {
      "text/plain": [
       "'B= 3*C.i + 3*C.j + 3*C.k'"
      ]
     },
     "metadata": {},
     "output_type": "display_data"
    },
    {
     "data": {
      "text/plain": [
       "'Dot Product'"
      ]
     },
     "metadata": {},
     "output_type": "display_data"
    },
    {
     "data": {
      "image/png": "[encoded data removed]",
      "text/latex": [
       "$\\displaystyle C = A_{x} B_{x} + A_{y} B_{y} + A_{z} B_{z}$"
      ],
      "text/plain": [
       "C = Aₓ⋅Bₓ + A_y⋅B_y + A_z⋅B_z"
      ]
     },
     "metadata": {},
     "output_type": "display_data"
    },
    {
     "data": {
      "image/png": "[encoded data removed]",
      "text/latex": [
       "$\\displaystyle C = 27$"
      ],
      "text/plain": [
       "C = 27"
      ]
     },
     "metadata": {},
     "output_type": "display_data"
    },
    {
     "data": {
      "text/plain": [
       "'Vector Product'"
      ]
     },
     "metadata": {},
     "output_type": "display_data"
    },
    {
     "data": {
      "image/png": "[encoded data removed]",
      "text/latex": [
       "$\\displaystyle \\left(C_{x}\\right)\\mathbf{\\hat{i}_{C}} + \\left(C_{y}\\right)\\mathbf{\\hat{j}_{C}} + \\left(C_{z}\\right)\\mathbf{\\hat{k}_{C}} = \\mathbf{\\hat{0}}$"
      ],
      "text/plain": [
       "(Cₓ) i_C + (C_y) j_C + (C_z) k_C = 0"
      ]
     },
     "metadata": {},
     "output_type": "display_data"
    }
   ],
   "source": [
    "if \"vector_products\" in sets.flow:\n",
    "    \"\"\"\n",
    "    # (A x B) x C =! A x (B x C)\n",
    "    [Ax,Bx,Cx] = symbols('A_x B_x C_x', real=True)\n",
    "    [Ay,By,Cy] = symbols('A_y B_y C_y', real=True)\n",
    "    [Az,Bz,Cz] = symbols('A_z B_z C_z', real=True)\n",
    "    \n",
    "    C = CoordSys3D('C')\n",
    "    A = Ax*C.i + Ay*C.j + Az*C.k\n",
    "    B = Bx*C.i + By*C.j + Bz*C.k \n",
    "    C = Cx*C.i + Cy*C.j + Cz*C.k\n",
    "    lhs = A.cross(B).cross(C)\n",
    "    rhs = A.cross(B.cross(C))\n",
    "    print(simplify(lhs-rhs))\n",
    "    print(lhs.equals(rhs))\n",
    "    \"\"\"\n",
    "    ometh.__init__()\n",
    "    ometh.verbose = True\n",
    "    \n",
    "    # 1. way\n",
    "    vA,vB,vC = (ometh.vA, ometh.vB, ometh.vC)\n",
    "    lhs = vA.cross(vB).cross(vC)\n",
    "    rhs = vA.cross(vB.cross(vC))\n",
    "    pprints(\"(A x B) x C=\", lhs,\n",
    "            \"A x (B x C)=\", rhs,\n",
    "            \"lhs.equals(rhs)\", lhs.equals(rhs),\n",
    "            \"simplify(lhs-rhs)\", simplify(lhs-rhs),\n",
    "            output_style = {1:\"display\", 2:\"pprint\", 3:\"print\", 4:\"latex\"}[1],\n",
    "            newline=True)\n",
    "    \n",
    "    # 2. Way\n",
    "    vA = 3*C.i + 3*C.j + 3*C.k\n",
    "    vB = 3*C.i + 3*C.j + 3*C.k\n",
    "    xreplaces = {Ax:vA.components[C.i], Ay:vA.components[C.j], Az:vA.components[C.k],\n",
    "                 Bx:vB.components[C.i], By:vB.components[C.j], Bz:vB.components[C.k],\n",
    "                 Cx:vC.components[C.i], Cy:vC.components[C.j], Cz:vC.components[C.k]}\n",
    "    commands = [\"xreplace\", \"ometh.dot_product\", xreplaces]\n",
    "    ometh.process(commands)\n",
    "    \n",
    "    # 3. Way\n",
    "    ometh.dot_product.evalf(subs=xreplaces)\n",
    "    # 4. Way\n",
    "    display(f\"A= {vA}\", f\"B= {vB}\",\n",
    "            \"Dot Product\",\n",
    "            ometh.dot_product,\n",
    "            ometh.dot_product.xreplace(xreplaces),\n",
    "            \"Vector Product\",\n",
    "            ometh.cross_product.xreplace(xreplaces)\n",
    "            )"
   ]
  },
  {
   "cell_type": "code",
   "execution_count": 40,
   "id": "9488b116",
   "metadata": {},
   "outputs": [
    {
     "data": {
      "image/png": "[encoded data removed]",
      "text/latex": [
       "$\\displaystyle \\boldsymbol{r} = \\sqrt{\\mathbf{{x}_{C}}^{2} + \\mathbf{{y}_{C}}^{2} + \\mathbf{{z}_{C}}^{2}}$"
      ],
      "text/plain": [
       "           ____________________\n",
       "          ╱    2      2      2 \n",
       "rbold = ╲╱  x_C  + y_C  + z_C  "
      ]
     },
     "metadata": {},
     "output_type": "display_data"
    },
    {
     "data": {
      "image/png": "[encoded data removed]",
      "text/latex": [
       "$\\displaystyle \\nabla{\\bf{r}}=$"
      ],
      "text/plain": [
       "\\nabla{\\bf{r}}="
      ]
     },
     "metadata": {},
     "output_type": "display_data"
    },
    {
     "data": {
      "image/png": "[encoded data removed]",
      "text/latex": [
       "$\\displaystyle \\left(\\frac{\\partial}{\\partial \\mathbf{{x}_{C}}} \\sqrt{\\mathbf{{x}_{C}}^{2} + \\mathbf{{y}_{C}}^{2} + \\mathbf{{z}_{C}}^{2}}\\right)\\mathbf{\\hat{i}_{C}} + \\left(\\frac{\\partial}{\\partial \\mathbf{{y}_{C}}} \\sqrt{\\mathbf{{x}_{C}}^{2} + \\mathbf{{y}_{C}}^{2} + \\mathbf{{z}_{C}}^{2}}\\right)\\mathbf{\\hat{j}_{C}} + \\left(\\frac{\\partial}{\\partial \\mathbf{{z}_{C}}} \\sqrt{\\mathbf{{x}_{C}}^{2} + \\mathbf{{y}_{C}}^{2} + \\mathbf{{z}_{C}}^{2}}\\right)\\mathbf{\\hat{k}_{C}}$"
      ],
      "text/plain": [
       "⎛    ⎛   ____________________⎞⎞       ⎛    ⎛   ____________________⎞⎞       ⎛    ⎛   ____________________⎞⎞    \n",
       "⎜ ∂  ⎜  ╱    2      2      2 ⎟⎟ i_C + ⎜ ∂  ⎜  ╱    2      2      2 ⎟⎟ j_C + ⎜ ∂  ⎜  ╱    2      2      2 ⎟⎟ k_C\n",
       "⎜────⎝╲╱  x_C  + y_C  + z_C  ⎠⎟       ⎜────⎝╲╱  x_C  + y_C  + z_C  ⎠⎟       ⎜────⎝╲╱  x_C  + y_C  + z_C  ⎠⎟    \n",
       "⎝∂x_C                         ⎠       ⎝∂y_C                         ⎠       ⎝∂z_C                         ⎠    "
      ]
     },
     "metadata": {},
     "output_type": "display_data"
    },
    {
     "data": {
      "image/png": "[encoded data removed]",
      "text/latex": [
       "$\\displaystyle \\nabla{\\bf{r}}=$"
      ],
      "text/plain": [
       "\\nabla{\\bf{r}}="
      ]
     },
     "metadata": {},
     "output_type": "display_data"
    },
    {
     "data": {
      "image/png": "[encoded data removed]",
      "text/latex": [
       "$\\displaystyle \\left(\\frac{\\mathbf{{x}_{C}}}{\\sqrt{\\mathbf{{x}_{C}}^{2} + \\mathbf{{y}_{C}}^{2} + \\mathbf{{z}_{C}}^{2}}}\\right)\\mathbf{\\hat{i}_{C}} + \\left(\\frac{\\mathbf{{y}_{C}}}{\\sqrt{\\mathbf{{x}_{C}}^{2} + \\mathbf{{y}_{C}}^{2} + \\mathbf{{z}_{C}}^{2}}}\\right)\\mathbf{\\hat{j}_{C}} + \\left(\\frac{\\mathbf{{z}_{C}}}{\\sqrt{\\mathbf{{x}_{C}}^{2} + \\mathbf{{y}_{C}}^{2} + \\mathbf{{z}_{C}}^{2}}}\\right)\\mathbf{\\hat{k}_{C}}$"
      ],
      "text/plain": [
       "⎛          x_C          ⎞       ⎛          y_C          ⎞       ⎛          z_C          ⎞    \n",
       "⎜───────────────────────⎟ i_C + ⎜───────────────────────⎟ j_C + ⎜───────────────────────⎟ k_C\n",
       "⎜   ____________________⎟       ⎜   ____________________⎟       ⎜   ____________________⎟    \n",
       "⎜  ╱    2      2      2 ⎟       ⎜  ╱    2      2      2 ⎟       ⎜  ╱    2      2      2 ⎟    \n",
       "⎝╲╱  x_C  + y_C  + z_C  ⎠       ⎝╲╱  x_C  + y_C  + z_C  ⎠       ⎝╲╱  x_C  + y_C  + z_C  ⎠    "
      ]
     },
     "metadata": {},
     "output_type": "display_data"
    }
   ],
   "source": [
    "if \"e1.3\" in sets.flow:\n",
    "    ometh.__init__()\n",
    "    ometh.verbose = True\n",
    "    \n",
    "    r = Eq(S('rbold'), sqrt(x**2+y**2+z**2))\n",
    "    gradr1 = gradient(r.rhs, doit=False)\n",
    "    gradr2 = gradient(r.rhs)\n",
    "    \n",
    "    display(r,\n",
    "            var(r'\\nabla{\\bf{r}}='), gradr1,\n",
    "            var(r'\\nabla{\\bf{r}}='), gradr2)"
   ]
  },
  {
   "cell_type": "code",
   "execution_count": 41,
   "id": "75202e69",
   "metadata": {},
   "outputs": [
    {
     "data": {
      "image/png": "[encoded data removed]",
      "text/latex": [
       "$\\displaystyle \\left(r_{x}\\right)\\mathbf{\\hat{i}_{C}} + \\left(r_{y}\\right)\\mathbf{\\hat{j}_{C}} + \\left(r_{z}\\right)\\mathbf{\\hat{k}_{C}} = \\left(\\mathbf{{x}_{C}}\\right)\\mathbf{\\hat{i}_{C}} + \\left(\\mathbf{{y}_{C}}\\right)\\mathbf{\\hat{j}_{C}} + \\left(\\mathbf{{z}_{C}}\\right)\\mathbf{\\hat{k}_{C}}$"
      ],
      "text/plain": [
       "(rₓ) i_C + (r_y) j_C + (r_z) k_C = (x_C) i_C + (y_C) j_C + (z_C) k_C"
      ]
     },
     "metadata": {},
     "output_type": "display_data"
    },
    {
     "data": {
      "image/png": "[encoded data removed]",
      "text/latex": [
       "$\\displaystyle \\nabla\\cdot{\\bf{r}}=$"
      ],
      "text/plain": [
       "\\nabla\\cdot{\\bf{r}}="
      ]
     },
     "metadata": {},
     "output_type": "display_data"
    },
    {
     "data": {
      "image/png": "[encoded data removed]",
      "text/latex": [
       "$\\displaystyle \\frac{d}{d \\mathbf{{x}_{C}}} \\mathbf{{x}_{C}} + \\frac{d}{d \\mathbf{{y}_{C}}} \\mathbf{{y}_{C}} + \\frac{d}{d \\mathbf{{z}_{C}}} \\mathbf{{z}_{C}}$"
      ],
      "text/plain": [
       " d           d           d       \n",
       "────(x_C) + ────(y_C) + ────(z_C)\n",
       "dx_C        dy_C        dz_C     "
      ]
     },
     "metadata": {},
     "output_type": "display_data"
    },
    {
     "data": {
      "image/png": "[encoded data removed]",
      "text/latex": [
       "$\\displaystyle \\nabla\\cdot{\\bf{r}}=$"
      ],
      "text/plain": [
       "\\nabla\\cdot{\\bf{r}}="
      ]
     },
     "metadata": {},
     "output_type": "display_data"
    },
    {
     "data": {
      "image/png": "[encoded data removed]",
      "text/latex": [
       "$\\displaystyle 3$"
      ],
      "text/plain": [
       "3"
      ]
     },
     "metadata": {},
     "output_type": "display_data"
    },
    {
     "data": {
      "image/png": "[encoded data removed]",
      "text/latex": [
       "$\\displaystyle \\left(r_{x}\\right)\\mathbf{\\hat{i}_{C}} + \\left(r_{y}\\right)\\mathbf{\\hat{j}_{C}} + \\left(r_{z}\\right)\\mathbf{\\hat{k}_{C}} = \\left(- \\mathbf{{y}_{C}}\\right)\\mathbf{\\hat{i}_{C}} + \\left(\\mathbf{{x}_{C}}\\right)\\mathbf{\\hat{j}_{C}}$"
      ],
      "text/plain": [
       "(rₓ) i_C + (r_y) j_C + (r_z) k_C = (-y_C) i_C + (x_C) j_C"
      ]
     },
     "metadata": {},
     "output_type": "display_data"
    },
    {
     "data": {
      "image/png": "[encoded data removed]",
      "text/latex": [
       "$\\displaystyle \\nabla\\times{\\bf{r}}=$"
      ],
      "text/plain": [
       "\\nabla\\times{\\bf{r}}="
      ]
     },
     "metadata": {},
     "output_type": "display_data"
    },
    {
     "data": {
      "image/png": "[encoded data removed]",
      "text/latex": [
       "$\\displaystyle \\left(\\frac{d}{d \\mathbf{{y}_{C}}} 0 - \\frac{d}{d \\mathbf{{z}_{C}}} \\mathbf{{x}_{C}}\\right)\\mathbf{\\hat{i}_{C}} + \\left(- \\frac{d}{d \\mathbf{{x}_{C}}} 0 + \\frac{d}{d \\mathbf{{z}_{C}}} \\left(- \\mathbf{{y}_{C}}\\right)\\right)\\mathbf{\\hat{j}_{C}} + \\left(\\frac{d}{d \\mathbf{{x}_{C}}} \\mathbf{{x}_{C}} - \\frac{d}{d \\mathbf{{y}_{C}}} \\left(- \\mathbf{{y}_{C}}\\right)\\right)\\mathbf{\\hat{k}_{C}}$"
      ],
      "text/plain": [
       "⎛ d         d       ⎞       ⎛   d         d        ⎞       ⎛ d           d        ⎞    \n",
       "⎜────(0) - ────(x_C)⎟ i_C + ⎜- ────(0) + ────(-y_C)⎟ j_C + ⎜────(x_C) - ────(-y_C)⎟ k_C\n",
       "⎝dy_C      dz_C     ⎠       ⎝  dx_C      dz_C      ⎠       ⎝dx_C        dy_C      ⎠    "
      ]
     },
     "metadata": {},
     "output_type": "display_data"
    },
    {
     "data": {
      "image/png": "[encoded data removed]",
      "text/latex": [
       "$\\displaystyle \\nabla\\times{\\bf{r}}=$"
      ],
      "text/plain": [
       "\\nabla\\times{\\bf{r}}="
      ]
     },
     "metadata": {},
     "output_type": "display_data"
    },
    {
     "data": {
      "image/png": "[encoded data removed]",
      "text/latex": [
       "$\\displaystyle \\left(2\\right)\\mathbf{\\hat{k}_{C}}$"
      ],
      "text/plain": [
       "(2) k_C"
      ]
     },
     "metadata": {},
     "output_type": "display_data"
    },
    {
     "data": {
      "text/plain": [
       "'e1.6'"
      ]
     },
     "metadata": {},
     "output_type": "display_data"
    },
    {
     "data": {
      "text/plain": [
       "'v='"
      ]
     },
     "metadata": {},
     "output_type": "display_data"
    },
    {
     "data": {
      "image/png": "[encoded data removed]",
      "text/latex": [
       "$\\displaystyle \\left(v_{x}\\right)\\mathbf{\\hat{i}_{C}} + \\left(v_{y}\\right)\\mathbf{\\hat{j}_{C}} + \\left(v_{z}\\right)\\mathbf{\\hat{k}_{C}} = \\left(\\mathbf{{y}_{C}}^{2}\\right)\\mathbf{\\hat{i}_{C}} + \\left(2 \\mathbf{{x}_{C}} \\left(\\mathbf{{y}_{C}} + 1\\right)\\right)\\mathbf{\\hat{j}_{C}}$"
      ],
      "text/plain": [
       "(vₓ) i_C + (v_y) j_C + (v_z) k_C = ⎛   2⎞                             \n",
       "                                   ⎝y_C ⎠ i_C  + (2⋅x_C⋅(y_C + 1)) j_C"
      ]
     },
     "metadata": {},
     "output_type": "display_data"
    },
    {
     "data": {
      "text/plain": [
       "'path='"
      ]
     },
     "metadata": {},
     "output_type": "display_data"
    },
    {
     "data": {
      "image/png": "[encoded data removed]",
      "text/latex": [
       "$\\displaystyle \\operatorname{ParametricRegion}\\left(\\left( t, \\  t\\right), \\left( t, \\  1, \\  2\\right)\\right)$"
      ],
      "text/plain": [
       "ParametricRegion((t, t), (t, 1, 2))"
      ]
     },
     "metadata": {},
     "output_type": "display_data"
    },
    {
     "data": {
      "image/png": "[encoded data removed]",
      "text/latex": [
       "$\\displaystyle \\int{\\bf{v}\\cdot{d\\bf{l}}}=$"
      ],
      "text/plain": [
       "\\int{\\bf{v}\\cdot{d\\bf{l}}}="
      ]
     },
     "metadata": {},
     "output_type": "display_data"
    },
    {
     "data": {
      "image/png": "[encoded data removed]",
      "text/latex": [
       "$\\displaystyle 10$"
      ],
      "text/plain": [
       "10"
      ]
     },
     "metadata": {},
     "output_type": "display_data"
    }
   ],
   "source": [
    "if \"e1.4\" in sets.flow:\n",
    "    ometh.__init__()\n",
    "    ometh.verbose = True\n",
    "    \n",
    "    r = Eq(S('r_x')*C.i+S('r_y')*C.j+S('r_z')*C.k,\n",
    "           x*C.i + y*C.j + z*C.k)\n",
    "    div1 = divergence(r.rhs, doit=False)\n",
    "    div2 = divergence(r.rhs)\n",
    "    \n",
    "    display(r,\n",
    "            var(r'\\nabla\\cdot{\\bf{r}}='), div1,\n",
    "            var(r'\\nabla\\cdot{\\bf{r}}='), div2,\n",
    "            )\n",
    "#--- e1.5    \n",
    "if \"e1.5\" in sets.flow:\n",
    "    ometh.__init__()\n",
    "    ometh.verbose = True\n",
    "    \n",
    "    r = Eq(S('r_x')*C.i+S('r_y')*C.j+S('r_z')*C.k,\n",
    "           -y*C.i + x*C.j)\n",
    "    curl1 = curl(r.rhs, doit=False)\n",
    "    curl2 = curl(r.rhs)\n",
    "    \n",
    "    display(r,\n",
    "            var(r'\\nabla\\times{\\bf{r}}='), curl1,\n",
    "            var(r'\\nabla\\times{\\bf{r}}='), curl2,\n",
    "            )\n",
    "#--- e1.6    \n",
    "if \"e1.6\" in sets.flow:\n",
    "    ometh.__init__()\n",
    "    ometh.verbose = True\n",
    "    \n",
    "    v = Eq(S('v_x')*C.i+S('v_y')*C.j+S('v_z')*C.k,\n",
    "           y**2*C.i + 2*x*(y+1)*C.j)\n",
    "    path = ParametricRegion((t, t), (t,1,2))\n",
    "    integral = vector_integrate(v.rhs, path)\n",
    "    \n",
    "    display(\"e1.6\",\n",
    "            \"v=\", v,\n",
    "            \"path=\", path,\n",
    "            var(r'\\int{\\bf{v}\\cdot{d\\bf{l}}}='), integral)"
   ]
  }
 ],
 "metadata": {
  "jupytext": {
   "cell_metadata_filter": "-all",
   "encoding": "# -*- coding: utf-8 -*-",
   "executable": "/usr/bin/env python3",
   "formats": "ipynb,auto:light",
   "main_language": "python",
   "notebook_metadata_filter": "-all"
  },
  "kernelspec": {
   "display_name": "Python 3 (ipykernel)",
   "language": "python",
   "name": "python3"
  },
  "language_info": {
   "codemirror_mode": {
    "name": "ipython",
    "version": 3
   },
   "file_extension": ".py",
   "mimetype": "text/x-python",
   "name": "python",
   "nbconvert_exporter": "python",
   "pygments_lexer": "ipython3",
   "version": "3.8.10"
  }
 },
 "nbformat": 4,
 "nbformat_minor": 5
}
