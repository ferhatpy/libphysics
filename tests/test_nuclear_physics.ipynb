{
 "cells": [
  {
   "cell_type": "markdown",
   "id": "8e35c532",
   "metadata": {},
   "source": [
    "## test_nuclear_physics.py"
   ]
  },
  {
   "cell_type": "code",
   "execution_count": 1,
   "id": "a5c6bde5",
   "metadata": {},
   "outputs": [
    {
     "data": {
      "text/plain": [
       "'\\ntest_nuclear_physics.py connected to test_nuclear_physics.ipynb \\nvia \"jupytext\" light pairing.\\n\\nReferences:\\n===========    \\n    Books:\\n    ======    \\n    Kenneth S. Krane - Introductory Nuclear Physics-John Wiley (1988)\\n    \\n    Problem Books:\\n    ==============    \\n\\n    \\nExample: ostat\\n============= \\ntemplate.class_type = \"micro_canonical_discrete_distinguihable\"\\ntemplate.__init__()\\ntemplate.verbose = False\\n[mu,B] = symbols(\\'mu B\\', real=True)\\nsubstitutions = {g:1, engF:mu*B*(2*i-3), j:1, n:2}\\n\\n# 4 lines\\ncommands = [\"xreplace\", \"ostat.Zsp\", substitutions]\\ntemplate.process(commands)\\nZsp = simplify(template.result.doit())\\ndisplay(Zsp)\\n\\n# Deep copy to create new instances of obranch class.\\nimport copy\\nostat2 = copy.deepcopy(ostat)\\n'"
      ]
     },
     "execution_count": 1,
     "metadata": {},
     "output_type": "execute_result"
    }
   ],
   "source": [
    "\"\"\"\n",
    "test_nuclear_physics.py connected to test_nuclear_physics.ipynb \n",
    "via \"jupytext\" light pairing.\n",
    "\n",
    "References:\n",
    "===========    \n",
    "    Books:\n",
    "    ======    \n",
    "    Kenneth S. Krane - Introductory Nuclear Physics-John Wiley (1988)\n",
    "    \n",
    "    Problem Books:\n",
    "    ==============    \n",
    "\n",
    "    \n",
    "Example: ostat\n",
    "============= \n",
    "template.class_type = \"micro_canonical_discrete_distinguihable\"\n",
    "template.__init__()\n",
    "template.verbose = False\n",
    "[mu,B] = symbols('mu B', real=True)\n",
    "substitutions = {g:1, engF:mu*B*(2*i-3), j:1, n:2}\n",
    "\n",
    "# 4 lines\n",
    "commands = [\"xreplace\", \"ostat.Zsp\", substitutions]\n",
    "template.process(commands)\n",
    "Zsp = simplify(template.result.doit())\n",
    "display(Zsp)\n",
    "\n",
    "# Deep copy to create new instances of obranch class.\n",
    "import copy\n",
    "ostat2 = copy.deepcopy(ostat)\n",
    "\"\"\""
   ]
  },
  {
   "cell_type": "code",
   "execution_count": 2,
   "id": "c4282145",
   "metadata": {},
   "outputs": [
    {
     "name": "stdout",
     "output_type": "stream",
     "text": [
      "libsympy is loaded.\n"
     ]
    }
   ],
   "source": [
    "import copy\n",
    "import os\n",
    "import sys\n",
    "# Import path for library functions.\n",
    "lstPaths = [\"../src\"]\n",
    "for ipath in lstPaths:\n",
    "    if ipath not in sys.path:\n",
    "        sys.path.append(ipath)\n",
    "# The following is not compatible with jupyter-notebook.\n",
    "# for ipath in lstPaths:\n",
    "#    if os.path.join(os.path.dirname(__file__), ipath) not in sys.path:\n",
    "#        sys.path.append(os.path.join(os.path.dirname(__file__), ipath))\n",
    "from libsympy import *\n",
    "from sympy.abc import*\n",
    "from quantum_mechanics import *\n",
    "from nuclear_physics import *"
   ]
  },
  {
   "cell_type": "code",
   "execution_count": 3,
   "id": "eb0b5800",
   "metadata": {
    "lines_to_next_cell": 1
   },
   "outputs": [],
   "source": [
    "import scipy.constants as pc\n",
    "import scienceplots\n",
    "plt.style.use(['science', 'notebook'])"
   ]
  },
  {
   "cell_type": "markdown",
   "id": "b81cd5cf",
   "metadata": {},
   "source": [
    "Execute jupyter-notebook related commands.\n",
    "exec(open('libnotebook.py').read())\n",
    "print(sys.version)\n",
    "print(sys.path)"
   ]
  },
  {
   "cell_type": "markdown",
   "id": "21b398f1",
   "metadata": {},
   "source": [
    "### Settings"
   ]
  },
  {
   "cell_type": "code",
   "execution_count": 4,
   "id": "1c452027",
   "metadata": {
    "lines_to_next_cell": 1
   },
   "outputs": [],
   "source": [
    "### Settings\n",
    "class sets:\n",
    "    \"\"\"\n",
    "    Setttings class.\n",
    "        \n",
    "    Instead of settings class, settings nametuble might be used.\n",
    "    Settings = namedtuple(\"Settings\", \"type dropinf delta\")\n",
    "    sets = Settings(type=\"symbolic\", dropinf=True, delta=0.1)\n",
    "    \"\"\"\n",
    "    global dictflow, test_all\n",
    "    \n",
    "    def __init__(self):\n",
    "        pass\n",
    "\n",
    "    # File settings\n",
    "    input_dir  = \"input/quantum_mechanics\"\n",
    "    output_dir = \"output/quantum_mechanics\"\n",
    "    \n",
    "    # Plotting settings\n",
    "    plot_time_scale = {1:\"xy\", 2:\"xz\", 3:\"yz\"}[3]\n",
    "    \n",
    "    # Execution settings.\n",
    "    test_all = {0:False, 1:True}[1]\n",
    "    dictflow = dict(\n",
    "        ch1 = {1:\"p1.1\",3:\"p1.5\",4:\"p1.9\",5:\"p1.17\"},\n",
    "        ch2 = {24:\"p2.4\",27:\"p2.7\",29:\"p2.9\",25:\"e2.5\",211:\"p2.11\",212:\"p2.12\",\n",
    "               232:\"ch2.3.2\",26:\"e2.6\",222:\"p2.22\",26:\"ch2.6\",233:\"p2.33\",241:\"p2.41\"},\n",
    "        ch3 = {322:\"p3.22\", 330:\"p3.30\"},\n",
    "        ch4 = {401:\"p4.1\",402:\"e4.1\",421:\"ch4.2.1\",411:\"p4.11\",4:\"p4.12\",404:\"fig4.4\",\n",
    "               413:\"p4.13\",7:\"p4.14\",8:\"p4.15\",9:\"ch4.3.1\",10:\"ch4.4.1\",\n",
    "               11:\"e4.2\",12:\"p4.27\",449:\"p4.49\",16:\"p4.55\"},\n",
    "        ch5 = {1:\"p5.1\"},\n",
    "        ch6 = {61:\"p6.1\", 62:\"p6.2\", 611:\"p6.11\", 614:\"p6.14\", 615:\"p6.15\", \n",
    "               253:\"c25.3\"},\n",
    "        ch9 = {91:\"p9.1\"})\n",
    "    flow = [dictflow[\"ch9\"][i] for i in [91]]\n",
    "    if test_all: flow = flatten([list(dictflow[i].values()) for i in dictflow.keys()])"
   ]
  },
  {
   "cell_type": "code",
   "execution_count": 5,
   "id": "c996bd9b",
   "metadata": {},
   "outputs": [
    {
     "name": "stdout",
     "output_type": "stream",
     "text": [
      "Test of the ['p1.1', 'p1.5', 'p1.9', 'p1.17', 'p2.4', 'p2.7', 'p2.9', 'e2.5', 'p2.11', 'p2.12', 'ch2.3.2', 'ch2.6', 'p2.22', 'p2.33', 'p2.41', 'p3.22', 'p3.30', 'p4.1', 'e4.1', 'ch4.2.1', 'p4.11', 'p4.12', 'fig4.4', 'p4.13', 'p4.14', 'p4.15', 'ch4.3.1', 'ch4.4.1', 'e4.2', 'p4.27', 'p4.49', 'p4.55 todo', 'p5.1 todo', 'p6.1', 'p6.2', 'p6.11', 'p6.14', 'p6.15', 'c25.3', 'p9.1'].\n"
     ]
    }
   ],
   "source": [
    "print(\"Test of the {0}.\".format(sets.flow))"
   ]
  },
  {
   "cell_type": "markdown",
   "id": "97ecaa61",
   "metadata": {},
   "source": [
    "### get_formulary"
   ]
  },
  {
   "cell_type": "code",
   "execution_count": 6,
   "id": "ed085ec1",
   "metadata": {},
   "outputs": [],
   "source": [
    "#### get_formulary\n",
    "if \"get_formulary\" in sets.flow:\n",
    "    onucl.__init__()\n",
    "    onucl.get_formulary()\n",
    "    onucl.get_formulary(style=\"eq\")"
   ]
  },
  {
   "cell_type": "markdown",
   "id": "32fdf054",
   "metadata": {},
   "source": [
    "### get_subformulary"
   ]
  },
  {
   "cell_type": "code",
   "execution_count": 7,
   "id": "e86e927e",
   "metadata": {},
   "outputs": [],
   "source": [
    "#### get_subformulary    \n",
    "if \"get_subformulary\" in sets.flow:\n",
    "    onucl.class_type = \"\"\n",
    "    onucl.__init__()\n",
    "    onucl.get_subformulary()"
   ]
  },
  {
   "cell_type": "markdown",
   "id": "216e8631-dfe3-48ef-9858-bfa53b108ae7",
   "metadata": {},
   "source": [
    "### p9.1"
   ]
  },
  {
   "cell_type": "code",
   "execution_count": 8,
   "id": "aac9ca7c",
   "metadata": {},
   "outputs": [
    {
     "name": "stdout",
     "output_type": "stream",
     "text": [
      "ENERGY RELEASE IN beta DECAY\n"
     ]
    },
    {
     "data": {
      "image/png": "[encoded data removed]",
      "text/latex": [
       "$\\displaystyle n = e^{-} + \\bar{\\nu}_{e} + p$"
      ],
      "text/plain": [
       "n = e⁻ + ν̅ₑ + p"
      ]
     },
     "metadata": {},
     "output_type": "display_data"
    },
    {
     "data": {
      "image/png": "[encoded data removed]",
      "text/latex": [
       "$\\displaystyle m_{n} = m_{e} + m_{\\bar{\\nu} e} + m_{p}$"
      ],
      "text/plain": [
       "mₙ = mₑ + m_ν̅_e + mₚ"
      ]
     },
     "metadata": {},
     "output_type": "display_data"
    },
    {
     "data": {
      "image/png": "[encoded data removed]",
      "text/latex": [
       "$\\displaystyle Q = c^{2} \\left(- m_{e} + m_{n} - m_{\\bar{\\nu} e} - m_{p}\\right)$"
      ],
      "text/plain": [
       "     2                        \n",
       "Q = c ⋅(-mₑ + mₙ - m_ν̅_e - mₚ)"
      ]
     },
     "metadata": {},
     "output_type": "display_data"
    },
    {
     "data": {
      "text/plain": [
       "'display'"
      ]
     },
     "metadata": {},
     "output_type": "display_data"
    },
    {
     "data": {
      "image/png": "[encoded data removed]",
      "text/latex": [
       "$\\displaystyle Q = 0.769333409999945$"
      ],
      "text/plain": [
       "Q = 0.769333409999945"
      ]
     },
     "metadata": {},
     "output_type": "display_data"
    }
   ],
   "source": [
    "if \"p9.1\" in sets.flow:\n",
    "    print(\"ENERGY RELEASE IN beta DECAY\")\n",
    "    onucl.__init__()\n",
    "    onucl.verbose = True\n",
    "    \n",
    "    substitutions = {e:m_e, n:m_n, p:m_p, nu_e:m_nu_e, anu_e:m_nubar_e}\n",
    "    react = onucl.Q(onucl.beta_negative_decay, substitutions)\n",
    "    nums = {c:1, \n",
    "            m_e:pc.physical_constants[\"electron mass energy equivalent in MeV\"][0],\n",
    "            m_n:pc.physical_constants[\"neutron mass energy equivalent in MeV\"][0],\n",
    "            m_p:pc.physical_constants[\"proton mass energy equivalent in MeV\"][0],\n",
    "            m_nubar_e:0.013}\n",
    "    display(react.subs(nums))"
   ]
  },
  {
   "cell_type": "code",
   "execution_count": null,
   "id": "c59fcaa1-b714-4993-85fb-e7f71117c376",
   "metadata": {},
   "outputs": [],
   "source": []
  }
 ],
 "metadata": {
  "jupytext": {
   "cell_metadata_filter": "-all",
   "encoding": "# -*- coding: utf-8 -*-",
   "executable": "/usr/bin/env python3",
   "formats": "ipynb,auto:light",
   "main_language": "python",
   "notebook_metadata_filter": "-all"
  },
  "kernelspec": {
   "display_name": "Python 3 (ipykernel)",
   "language": "python",
   "name": "python3"
  },
  "language_info": {
   "codemirror_mode": {
    "name": "ipython",
    "version": 3
   },
   "file_extension": ".py",
   "mimetype": "text/x-python",
   "name": "python",
   "nbconvert_exporter": "python",
   "pygments_lexer": "ipython3",
   "version": "3.8.10"
  }
 },
 "nbformat": 4,
 "nbformat_minor": 5
}
