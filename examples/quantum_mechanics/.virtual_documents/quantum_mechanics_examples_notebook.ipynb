


"""
quantum_mechanics.py

Installation in a Local Computer
==============================


Intallation in a Cloud
======================


Functions:
========== 


References:
===========    
    Books:
    ======    

    
    Python Books:
    =============    


    Problem Books:
    ==============    
    
    
    Web Sites:
    ==========


Homeworks
=========

"""
import copy
import sys
import os
lstPaths = ["../../src"]
for ipath in lstPaths:
    if ipath not in sys.path:
        sys.path.append(ipath)
import scipy as sp     
from libsympy import *
from quantum_mechanics import *

global test_all
C = CoordSys3D('C') # Cartesian coordinate system.
oqmec.__init__(class_type = "position_space")
test_all = {0:False, 1:True}[1]









































































































































































































































B0 = symbols('B_0', real=True)
B  = B0*C.k
Sp = oqmec.Hamiltonian.Sp
H1 = oqmec.Hamiltonian.e_in_B(B)
H2 = H1.xreplace({Sz:oqmec.Sz.rhs})
H = H2.rhs.doit()
Evecs = H.eigenvects()
E1,E2 = [H.eigenvects()[0][0], H.eigenvects()[1][0]]

pprints(Math(r"\bf{B}="), B,
        Math(r"\bf{S}="), Sp,
        H1, H2, "H=", H, 
        "Eigenvectors=", Evecs,
        "Energy spectrum=", [E1, E2])


Xi1 = a*oqmec.sz_up.rhs*exp(-I*E1*t/hbar) + b*oqmec.sz_down.rhs*exp(-I*E2*t/hbar)
Xi2 = Xi1.doit()
substitutions = {a:cos(alpha/2), b:sin(alpha/2)}
Xi = Xi2.xreplace(substitutions)
expSx1 = Xi.adjoint()*oqmec.Sx.rhs.doit()*Xi
# expSx = expSx1.rewrite(sin)
expSx = simplify(expSx1)
expSy = simplify(Xi.adjoint()*oqmec.Sy.rhs.doit()*Xi)
expSz = simplify(Xi.adjoint()*oqmec.Sz.rhs.doit()*Xi)

pprints("Xi", Xi1, "Xi", Xi2, "Xi", Xi, 
        "<Sx>=<Xi|Sx|Xi>", expSx1,
        "<Sx>", expSx,
        "<Sy>", expSy,
        "<Sz>", expSz)


































































































n = sin(theta)*cos(phi)*C.i + sin(theta)*sin(phi)*C.j + cos(theta)*C.k
nx, ny, nz = [n.components[C.i], n.components[C.j], n.components[C.k]] 
display(Math(r"n_x="), nx)
pprints(Eq(var('n_x'), nx),
        Eq(var('n_y'), ny),
        Eq(var('n_z'), nz))

Sv = oqmec.Sx.rhs*C.i + oqmec.Sy.rhs*C.j + oqmec.Sz.rhs*C.k
Sn1 = Sv.dot(n)
Sn = trigsimp(Sv.dot(n).doit())
display(n, Sv, Sn1, Sn)


Sn.eigenvals()


det(Sn-l*eye(2))


solve(det(Sn-l*eye(2)), l)





l1 = ((oqmec.Sx.rhs.doit()*nx)**2).eigenvals()
l2 = ((oqmec.Sy.rhs.doit()*ny)**2).eigenvals()
l3 = ((oqmec.Sz.rhs.doit()*nz)**2).eigenvals()
l = sqrt(simplify(list(l1.keys())[0] + list(l2.keys())[0] + list(l3.keys())[0]))
display(l1, l2, l3, l)


display((oqmec.Sx.rhs.doit()*nx)**2,
        (oqmec.Sy.rhs.doit()*ny)**2,
        (oqmec.Sz.rhs.doit()*nz)**2)





l1 = solve(det((oqmec.Sx.rhs.doit()*nx)**2 - S('l1')*eye(2)), S('l1'))
l2 = solve(det((oqmec.Sy.rhs.doit()*ny)**2 - S('l2')*eye(2)), S('l2'))
l3 = solve(det((oqmec.Sz.rhs.doit()*nz)**2 - S('l3')*eye(2)), S('l3'))
l = sqrt(l1[0] + l2[0] + l3[0])
ls = simplify(l)
display(l1, l2, l3, l, ls)





Sn2 = (oqmec.Sx.rhs.doit()*nx)**2 + (oqmec.Sy.rhs.doit()*ny)**2 + (oqmec.Sz.rhs.doit()*nz)**2
display(Math(r'S_n^2='), Sn2, 
        Eq(var('S_n^2'), UnevaluatedExpr(Sn2)), 
        "Eigenvalues of Sn^2=", Sn2.eigenvals(),
        "Root of Eigenvalues of Sn^2=", sqrt(Sn2.eigenvals().popitem()[0]))



































print("p6.2 Deformed Harmonic Oscillator")
oqmec.__init__("position_space")
oqmec.verbose = True
A,m,w,k,eps = symbols('A m w k epsilon', real=True)
psi0c = oqmec.qho.nb
psi0  = oqmec.qho.nk
En0   = oqmec.qho.En
Hp = S(1)/2*k*oqmec.qho.xop.rhs**2*eps
En1 = oqmec.En_ND_PT(1, psi0c, psi0, Hp, En0)
En2 = oqmec.En_ND_PT(2, psi0c, psi0, Hp, En0, k2min=n-2, k2max=n+2)
En3full = oqmec.En_ND_PT(3, psi0c, psi0, Hp, En0)
En3 = oqmec.En_ND_PT(3, psi0c, psi0, Hp, En0, k2min=n-3, k2max=n+3)

pprints("Hp", Hp,
        "En1=", En1, simplify(En1),
        "En2=", En2, simplify(En2),
        "En3=", En3, simplify(En3full),
        "En3=", En3, simplify(En3),
        output_style = "display")

































































































































































































































































































































