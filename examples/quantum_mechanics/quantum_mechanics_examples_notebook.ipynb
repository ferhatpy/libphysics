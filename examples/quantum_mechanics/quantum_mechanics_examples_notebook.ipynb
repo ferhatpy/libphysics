{
 "cells": [
  {
   "cell_type": "code",
   "execution_count": 1,
   "id": "dd7953ca-df1f-49b5-a1e7-b0dcfb163961",
   "metadata": {},
   "outputs": [
    {
     "name": "stdout",
     "output_type": "stream",
     "text": [
      "libsympy is loaded.\n"
     ]
    }
   ],
   "source": [
    "\"\"\"\n",
    "quantum_mechanics.py\n",
    "\n",
    "Installation in a Local Computer\n",
    "==============================\n",
    "\n",
    "\n",
    "Intallation in a Cloud\n",
    "======================\n",
    "\n",
    "\n",
    "Functions:\n",
    "========== \n",
    "\n",
    "\n",
    "References:\n",
    "===========    \n",
    "    Books:\n",
    "    ======    \n",
    "\n",
    "    \n",
    "    Python Books:\n",
    "    =============    \n",
    "\n",
    "\n",
    "    Problem Books:\n",
    "    ==============    \n",
    "    \n",
    "    \n",
    "    Web Sites:\n",
    "    ==========\n",
    "\n",
    "\n",
    "Homeworks\n",
    "=========\n",
    "\n",
    "\"\"\"\n",
    "import copy\n",
    "import sys\n",
    "import os\n",
    "lstPaths = [\"../../src\"]\n",
    "for ipath in lstPaths:\n",
    "    if ipath not in sys.path:\n",
    "        sys.path.append(ipath)\n",
    "import scipy as sp     \n",
    "from libsympy import *\n",
    "from quantum_mechanics import *\n",
    "\n",
    "C = CoordSys3D('C') # Cartesian coordinate system.\n",
    "oqmec.__init__(class_type = \"position_space\")"
   ]
  },
  {
   "cell_type": "markdown",
   "id": "b3a4c446-ab50-44e0-9a11-9d274fb0bebf",
   "metadata": {},
   "source": [
    "# Quantum Mechanics Examples"
   ]
  },
  {
   "cell_type": "code",
   "execution_count": 2,
   "id": "c5fb16ee",
   "metadata": {
    "scrolled": true
   },
   "outputs": [
    {
     "data": {
      "image/png": "[encoded data removed]",
      "text/latex": [
       "$\\displaystyle \\left(\\sin{\\left(\\theta \\right)} \\cos{\\left(\\phi \\right)}\\right)\\mathbf{\\hat{i}_{C}} + \\left(\\sin{\\left(\\phi \\right)} \\sin{\\left(\\theta \\right)}\\right)\\mathbf{\\hat{j}_{C}} + \\left(\\cos{\\left(\\theta \\right)}\\right)\\mathbf{\\hat{k}_{C}}$"
      ],
      "text/plain": [
       "(sin(θ)⋅cos(φ)) i_C + (sin(φ)⋅sin(θ)) j_C + (cos(θ)) k_C"
      ]
     },
     "metadata": {},
     "output_type": "display_data"
    },
    {
     "data": {
      "image/png": "[encoded data removed]",
      "text/latex": [
       "$\\displaystyle \\left(\\frac{\\hbar \\left[\\begin{matrix}0 & 1\\\\1 & 0\\end{matrix}\\right]}{2}\\right)\\mathbf{\\hat{i}_{C}} + \\left(\\frac{\\hbar \\left[\\begin{matrix}0 & - i\\\\i & 0\\end{matrix}\\right]}{2}\\right)\\mathbf{\\hat{j}_{C}} + \\left(\\frac{\\hbar \\left[\\begin{matrix}1 & 0\\\\0 & -1\\end{matrix}\\right]}{2}\\right)\\mathbf{\\hat{k}_{C}}$"
      ],
      "text/plain": [
       "⎛  ⎡0  1⎤⎞       ⎛  ⎡0  -ⅈ⎤⎞       ⎛  ⎡1  0 ⎤⎞    \n",
       "⎜ℏ⋅⎢    ⎥⎟ i_C + ⎜ℏ⋅⎢     ⎥⎟ j_C + ⎜ℏ⋅⎢     ⎥⎟ k_C\n",
       "⎜  ⎣1  0⎦⎟       ⎜  ⎣ⅈ  0 ⎦⎟       ⎜  ⎣0  -1⎦⎟    \n",
       "⎜────────⎟       ⎜─────────⎟       ⎜─────────⎟    \n",
       "⎝   2    ⎠       ⎝    2    ⎠       ⎝    2    ⎠    "
      ]
     },
     "metadata": {},
     "output_type": "display_data"
    },
    {
     "data": {
      "image/png": "[encoded data removed]",
      "text/latex": [
       "$\\displaystyle \\frac{\\hbar \\sin{\\left(\\phi \\right)} \\sin{\\left(\\theta \\right)} \\left[\\begin{matrix}0 & - i\\\\i & 0\\end{matrix}\\right]}{2} + \\frac{\\hbar \\sin{\\left(\\theta \\right)} \\cos{\\left(\\phi \\right)} \\left[\\begin{matrix}0 & 1\\\\1 & 0\\end{matrix}\\right]}{2} + \\frac{\\hbar \\cos{\\left(\\theta \\right)} \\left[\\begin{matrix}1 & 0\\\\0 & -1\\end{matrix}\\right]}{2}$"
      ],
      "text/plain": [
       "                ⎡0  -ⅈ⎤                   ⎡0  1⎤            ⎡1  0 ⎤\n",
       "ℏ⋅sin(φ)⋅sin(θ)⋅⎢     ⎥   ℏ⋅sin(θ)⋅cos(φ)⋅⎢    ⎥   ℏ⋅cos(θ)⋅⎢     ⎥\n",
       "                ⎣ⅈ  0 ⎦                   ⎣1  0⎦            ⎣0  -1⎦\n",
       "─────────────────────── + ────────────────────── + ────────────────\n",
       "           2                        2                     2        "
      ]
     },
     "metadata": {},
     "output_type": "display_data"
    },
    {
     "data": {
      "image/png": "[encoded data removed]",
      "text/latex": [
       "$\\displaystyle \\left[\\begin{matrix}\\frac{\\hbar \\cos{\\left(\\theta \\right)}}{2} & \\frac{\\hbar \\left(- i \\sin{\\left(\\phi \\right)} + \\cos{\\left(\\phi \\right)}\\right) \\sin{\\left(\\theta \\right)}}{2}\\\\\\frac{\\hbar \\left(i \\sin{\\left(\\phi \\right)} + \\cos{\\left(\\phi \\right)}\\right) \\sin{\\left(\\theta \\right)}}{2} & - \\frac{\\hbar \\cos{\\left(\\theta \\right)}}{2}\\end{matrix}\\right]$"
      ],
      "text/plain": [
       "⎡          ℏ⋅cos(θ)            ℏ⋅(-ⅈ⋅sin(φ) + cos(φ))⋅sin(θ)⎤\n",
       "⎢          ────────            ─────────────────────────────⎥\n",
       "⎢             2                              2              ⎥\n",
       "⎢                                                           ⎥\n",
       "⎢ℏ⋅(ⅈ⋅sin(φ) + cos(φ))⋅sin(θ)           -ℏ⋅cos(θ)           ⎥\n",
       "⎢────────────────────────────           ──────────          ⎥\n",
       "⎣             2                             2               ⎦"
      ]
     },
     "metadata": {},
     "output_type": "display_data"
    }
   ],
   "source": [
    "n = sin(theta)*cos(phi)*C.i + sin(theta)*sin(phi)*C.j + cos(theta)*C.k\n",
    "Sv = oqmec.Sx.rhs*C.i + oqmec.Sy.rhs*C.j + oqmec.Sz.rhs*C.k\n",
    "Sn1 = Sv.dot(n)\n",
    "Sn = trigsimp(Sv.dot(n).doit())\n",
    "display(n,Sv,Sn1,Sn)"
   ]
  },
  {
   "cell_type": "code",
   "execution_count": 3,
   "id": "c19443a8-bae4-46c2-9650-4085527e7fd3",
   "metadata": {},
   "outputs": [
    {
     "data": {
      "image/png": "[encoded data removed]",
      "text/latex": [
       "$\\displaystyle \\left\\{ - \\frac{\\hbar}{2} : 1, \\  \\frac{\\hbar}{2} : 1\\right\\}$"
      ],
      "text/plain": [
       "⎧-ℏ      ℏ   ⎫\n",
       "⎨───: 1, ─: 1⎬\n",
       "⎩ 2      2   ⎭"
      ]
     },
     "execution_count": 3,
     "metadata": {},
     "output_type": "execute_result"
    }
   ],
   "source": [
    "Sn.eigenvals()"
   ]
  },
  {
   "cell_type": "code",
   "execution_count": 4,
   "id": "c0d04136-c6b3-4a0a-8928-e2a699206024",
   "metadata": {},
   "outputs": [
    {
     "data": {
      "image/png": "[encoded data removed]",
      "text/latex": [
       "$\\displaystyle l^{2} - \\frac{\\hbar^{2} \\sin^{2}{\\left(\\phi \\right)} \\sin^{2}{\\left(\\theta \\right)}}{4} - \\frac{\\hbar^{2} \\sin^{2}{\\left(\\theta \\right)} \\cos^{2}{\\left(\\phi \\right)}}{4} - \\frac{\\hbar^{2} \\cos^{2}{\\left(\\theta \\right)}}{4}$"
      ],
      "text/plain": [
       "      2    2       2       2    2       2       2    2   \n",
       " 2   ℏ ⋅sin (φ)⋅sin (θ)   ℏ ⋅sin (θ)⋅cos (φ)   ℏ ⋅cos (θ)\n",
       "l  - ────────────────── - ────────────────── - ──────────\n",
       "             4                    4                4     "
      ]
     },
     "execution_count": 4,
     "metadata": {},
     "output_type": "execute_result"
    }
   ],
   "source": [
    "det(Sn-l*eye(2))"
   ]
  },
  {
   "cell_type": "code",
   "execution_count": 5,
   "id": "89569aea-cb0d-44e5-9c01-0bd7fedcfd98",
   "metadata": {
    "scrolled": true
   },
   "outputs": [
    {
     "data": {
      "image/png": "[encoded data removed]",
      "text/latex": [
       "$\\displaystyle \\left[ - \\frac{\\hbar}{2}, \\  \\frac{\\hbar}{2}\\right]$"
      ],
      "text/plain": [
       "⎡-ℏ   ℏ⎤\n",
       "⎢───, ─⎥\n",
       "⎣ 2   2⎦"
      ]
     },
     "execution_count": 5,
     "metadata": {},
     "output_type": "execute_result"
    }
   ],
   "source": [
    "solve(det(Sn-l*eye(2)), l)"
   ]
  },
  {
   "cell_type": "code",
   "execution_count": 6,
   "id": "e2ccaa90-2752-47c5-a423-ed6ca6e0a4cd",
   "metadata": {},
   "outputs": [
    {
     "data": {
      "image/png": "[encoded data removed]",
      "text/latex": [
       "$\\displaystyle \\sin{\\left(\\theta \\right)} \\cos{\\left(\\phi \\right)}$"
      ],
      "text/plain": [
       "sin(θ)⋅cos(φ)"
      ]
     },
     "metadata": {},
     "output_type": "display_data"
    },
    {
     "data": {
      "image/png": "[encoded data removed]",
      "text/latex": [
       "$\\displaystyle \\sin{\\left(\\phi \\right)} \\sin{\\left(\\theta \\right)}$"
      ],
      "text/plain": [
       "sin(φ)⋅sin(θ)"
      ]
     },
     "metadata": {},
     "output_type": "display_data"
    },
    {
     "data": {
      "image/png": "[encoded data removed]",
      "text/latex": [
       "$\\displaystyle \\cos{\\left(\\theta \\right)}$"
      ],
      "text/plain": [
       "cos(θ)"
      ]
     },
     "metadata": {},
     "output_type": "display_data"
    }
   ],
   "source": [
    "nx, ny, nz = [n.components[C.i], n.components[C.j], n.components[C.k]] \n",
    "display(nx, ny, nz)"
   ]
  },
  {
   "cell_type": "code",
   "execution_count": 7,
   "id": "752b8896-8e60-45f3-9e59-3f96b77fe357",
   "metadata": {},
   "outputs": [
    {
     "data": {
      "image/png": "[encoded data removed]",
      "text/latex": [
       "$\\displaystyle \\left\\{ \\frac{\\hbar^{2} \\sin^{2}{\\left(\\theta \\right)} \\cos^{2}{\\left(\\phi \\right)}}{4} : 2\\right\\}$"
      ],
      "text/plain": [
       "⎧ 2    2       2      ⎫\n",
       "⎪ℏ ⋅sin (θ)⋅cos (φ)   ⎪\n",
       "⎨──────────────────: 2⎬\n",
       "⎪        4            ⎪\n",
       "⎩                     ⎭"
      ]
     },
     "metadata": {},
     "output_type": "display_data"
    },
    {
     "data": {
      "image/png": "[encoded data removed]",
      "text/latex": [
       "$\\displaystyle \\left\\{ \\frac{\\hbar^{2} \\sin^{2}{\\left(\\phi \\right)} \\sin^{2}{\\left(\\theta \\right)}}{4} : 2\\right\\}$"
      ],
      "text/plain": [
       "⎧ 2    2       2      ⎫\n",
       "⎪ℏ ⋅sin (φ)⋅sin (θ)   ⎪\n",
       "⎨──────────────────: 2⎬\n",
       "⎪        4            ⎪\n",
       "⎩                     ⎭"
      ]
     },
     "metadata": {},
     "output_type": "display_data"
    },
    {
     "data": {
      "image/png": "[encoded data removed]",
      "text/latex": [
       "$\\displaystyle \\left\\{ \\frac{\\hbar^{2} \\cos^{2}{\\left(\\theta \\right)}}{4} : 2\\right\\}$"
      ],
      "text/plain": [
       "⎧ 2    2      ⎫\n",
       "⎪ℏ ⋅cos (θ)   ⎪\n",
       "⎨──────────: 2⎬\n",
       "⎪    4        ⎪\n",
       "⎩             ⎭"
      ]
     },
     "metadata": {},
     "output_type": "display_data"
    },
    {
     "data": {
      "image/png": "[encoded data removed]",
      "text/latex": [
       "$\\displaystyle \\frac{\\hbar}{2}$"
      ],
      "text/plain": [
       "ℏ\n",
       "─\n",
       "2"
      ]
     },
     "metadata": {},
     "output_type": "display_data"
    }
   ],
   "source": [
    "l1 = ((oqmec.Sx.rhs.doit()*nx)**2).eigenvals()\n",
    "l2 = ((oqmec.Sy.rhs.doit()*ny)**2).eigenvals()\n",
    "l3 = ((oqmec.Sz.rhs.doit()*nz)**2).eigenvals()\n",
    "l = sqrt(simplify(list(l1.keys())[0] + list(l2.keys())[0] + list(l3.keys())[0]))\n",
    "display(l1, l2, l3, l)"
   ]
  },
  {
   "cell_type": "code",
   "execution_count": 8,
   "id": "665ddf78-ed66-4cf2-9d95-4216449af428",
   "metadata": {},
   "outputs": [
    {
     "data": {
      "image/png": "[encoded data removed]",
      "text/latex": [
       "$\\displaystyle \\left[\\begin{matrix}\\frac{\\hbar^{2} \\sin^{2}{\\left(\\theta \\right)} \\cos^{2}{\\left(\\phi \\right)}}{4} & 0\\\\0 & \\frac{\\hbar^{2} \\sin^{2}{\\left(\\theta \\right)} \\cos^{2}{\\left(\\phi \\right)}}{4}\\end{matrix}\\right]$"
      ],
      "text/plain": [
       "⎡ 2    2       2                       ⎤\n",
       "⎢ℏ ⋅sin (θ)⋅cos (φ)                    ⎥\n",
       "⎢──────────────────          0         ⎥\n",
       "⎢        4                             ⎥\n",
       "⎢                                      ⎥\n",
       "⎢                     2    2       2   ⎥\n",
       "⎢                    ℏ ⋅sin (θ)⋅cos (φ)⎥\n",
       "⎢        0           ──────────────────⎥\n",
       "⎣                            4         ⎦"
      ]
     },
     "metadata": {},
     "output_type": "display_data"
    },
    {
     "data": {
      "image/png": "[encoded data removed]",
      "text/latex": [
       "$\\displaystyle \\left[\\begin{matrix}\\frac{\\hbar^{2} \\sin^{2}{\\left(\\phi \\right)} \\sin^{2}{\\left(\\theta \\right)}}{4} & 0\\\\0 & \\frac{\\hbar^{2} \\sin^{2}{\\left(\\phi \\right)} \\sin^{2}{\\left(\\theta \\right)}}{4}\\end{matrix}\\right]$"
      ],
      "text/plain": [
       "⎡ 2    2       2                       ⎤\n",
       "⎢ℏ ⋅sin (φ)⋅sin (θ)                    ⎥\n",
       "⎢──────────────────          0         ⎥\n",
       "⎢        4                             ⎥\n",
       "⎢                                      ⎥\n",
       "⎢                     2    2       2   ⎥\n",
       "⎢                    ℏ ⋅sin (φ)⋅sin (θ)⎥\n",
       "⎢        0           ──────────────────⎥\n",
       "⎣                            4         ⎦"
      ]
     },
     "metadata": {},
     "output_type": "display_data"
    },
    {
     "data": {
      "image/png": "[encoded data removed]",
      "text/latex": [
       "$\\displaystyle \\left[\\begin{matrix}\\frac{\\hbar^{2} \\cos^{2}{\\left(\\theta \\right)}}{4} & 0\\\\0 & \\frac{\\hbar^{2} \\cos^{2}{\\left(\\theta \\right)}}{4}\\end{matrix}\\right]$"
      ],
      "text/plain": [
       "⎡ 2    2               ⎤\n",
       "⎢ℏ ⋅cos (θ)            ⎥\n",
       "⎢──────────      0     ⎥\n",
       "⎢    4                 ⎥\n",
       "⎢                      ⎥\n",
       "⎢             2    2   ⎥\n",
       "⎢            ℏ ⋅cos (θ)⎥\n",
       "⎢    0       ──────────⎥\n",
       "⎣                4     ⎦"
      ]
     },
     "metadata": {},
     "output_type": "display_data"
    }
   ],
   "source": [
    "display((oqmec.Sx.rhs.doit()*nx)**2,\n",
    "        (oqmec.Sy.rhs.doit()*ny)**2,\n",
    "        (oqmec.Sz.rhs.doit()*nz)**2)"
   ]
  },
  {
   "cell_type": "code",
   "execution_count": 9,
   "id": "3fcddc4c-4f4b-4ef6-8ff3-6686e035a65f",
   "metadata": {},
   "outputs": [
    {
     "data": {
      "image/png": "[encoded data removed]",
      "text/latex": [
       "$\\displaystyle \\left[ \\frac{\\hbar^{2} \\sin^{2}{\\left(\\theta \\right)} \\cos^{2}{\\left(\\phi \\right)}}{4}\\right]$"
      ],
      "text/plain": [
       "⎡ 2    2       2   ⎤\n",
       "⎢ℏ ⋅sin (θ)⋅cos (φ)⎥\n",
       "⎢──────────────────⎥\n",
       "⎣        4         ⎦"
      ]
     },
     "metadata": {},
     "output_type": "display_data"
    },
    {
     "data": {
      "image/png": "[encoded data removed]",
      "text/latex": [
       "$\\displaystyle \\left[ \\frac{\\hbar^{2} \\sin^{2}{\\left(\\phi \\right)} \\sin^{2}{\\left(\\theta \\right)}}{4}\\right]$"
      ],
      "text/plain": [
       "⎡ 2    2       2   ⎤\n",
       "⎢ℏ ⋅sin (φ)⋅sin (θ)⎥\n",
       "⎢──────────────────⎥\n",
       "⎣        4         ⎦"
      ]
     },
     "metadata": {},
     "output_type": "display_data"
    },
    {
     "data": {
      "image/png": "[encoded data removed]",
      "text/latex": [
       "$\\displaystyle \\left[ \\frac{\\hbar^{2} \\cos^{2}{\\left(\\theta \\right)}}{4}\\right]$"
      ],
      "text/plain": [
       "⎡ 2    2   ⎤\n",
       "⎢ℏ ⋅cos (θ)⎥\n",
       "⎢──────────⎥\n",
       "⎣    4     ⎦"
      ]
     },
     "metadata": {},
     "output_type": "display_data"
    },
    {
     "data": {
      "image/png": "[encoded data removed]",
      "text/latex": [
       "$\\displaystyle \\sqrt{\\frac{\\hbar^{2} \\sin^{2}{\\left(\\phi \\right)} \\sin^{2}{\\left(\\theta \\right)}}{4} + \\frac{\\hbar^{2} \\sin^{2}{\\left(\\theta \\right)} \\cos^{2}{\\left(\\phi \\right)}}{4} + \\frac{\\hbar^{2} \\cos^{2}{\\left(\\theta \\right)}}{4}}$"
      ],
      "text/plain": [
       "     ______________________________________________________\n",
       "    ╱  2    2       2       2    2       2       2    2    \n",
       "   ╱  ℏ ⋅sin (φ)⋅sin (θ)   ℏ ⋅sin (θ)⋅cos (φ)   ℏ ⋅cos (θ) \n",
       "  ╱   ────────────────── + ────────────────── + ────────── \n",
       "╲╱            4                    4                4      "
      ]
     },
     "metadata": {},
     "output_type": "display_data"
    },
    {
     "data": {
      "image/png": "[encoded data removed]",
      "text/latex": [
       "$\\displaystyle \\frac{\\hbar}{2}$"
      ],
      "text/plain": [
       "ℏ\n",
       "─\n",
       "2"
      ]
     },
     "metadata": {},
     "output_type": "display_data"
    }
   ],
   "source": [
    "l1 = solve(det((oqmec.Sx.rhs.doit()*nx)**2 - S('l1')*eye(2)), S('l1'))\n",
    "l2 = solve(det((oqmec.Sy.rhs.doit()*ny)**2 - S('l2')*eye(2)), S('l2'))\n",
    "l3 = solve(det((oqmec.Sz.rhs.doit()*nz)**2 - S('l3')*eye(2)), S('l3'))\n",
    "l = sqrt(l1[0] + l2[0] + l3[0])\n",
    "ls = simplify(l)\n",
    "display(l1, l2, l3, l, ls)"
   ]
  },
  {
   "cell_type": "code",
   "execution_count": null,
   "metadata": {},
   "outputs": [],
   "source": []
  }
 ],
 "metadata": {
  "jupytext": {
   "cell_metadata_filter": "-all",
   "encoding": "# -*- coding: utf-8 -*-",
   "executable": "/usr/bin/env python3",
   "main_language": "python",
   "notebook_metadata_filter": "-all"
  },
  "kernelspec": {
   "display_name": "Python 3 (ipykernel)",
   "language": "python",
   "name": "python3"
  },
  "language_info": {
   "codemirror_mode": {
    "name": "ipython",
    "version": 3
   },
   "file_extension": ".py",
   "mimetype": "text/x-python",
   "name": "python",
   "nbconvert_exporter": "python",
   "pygments_lexer": "ipython3",
   "version": "3.8.10"
  },
  "nbTranslate": {
   "displayLangs": [
    "*"
   ],
   "hotkey": "alt-t",
   "langInMainMenu": true,
   "sourceLang": "en",
   "targetLang": "fr",
   "useGoogleTranslate": true
  },
  "toc": {
   "base_numbering": 1,
   "nav_menu": {},
   "number_sections": false,
   "sideBar": true,
   "skip_h1_title": false,
   "title_cell": "Table of Contents",
   "title_sidebar": "Contents",
   "toc_cell": false,
   "toc_position": {
    "height": "calc(100% - 180px)",
    "left": "10px",
    "top": "150px",
    "width": "165px"
   },
   "toc_section_display": true,
   "toc_window_display": true
  }
 },
 "nbformat": 4,
 "nbformat_minor": 5
}
