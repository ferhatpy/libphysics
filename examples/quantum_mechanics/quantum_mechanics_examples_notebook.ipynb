{
 "cells": [
  {
   "cell_type": "markdown",
   "metadata": {
    "tags": []
   },
   "source": [
    "**Franz Schwabl Quantum Mechanics**"
   ]
  },
  {
   "cell_type": "code",
   "execution_count": 1,
   "metadata": {},
   "outputs": [
    {
     "name": "stdout",
     "output_type": "stream",
     "text": [
      "libsympy is loaded.\n"
     ]
    }
   ],
   "source": [
    "\"\"\"\n",
    "quantum_mechanics.py\n",
    "\n",
    "Installation in a Local Computer\n",
    "==============================\n",
    "\n",
    "\n",
    "Intallation in a Cloud\n",
    "======================\n",
    "\n",
    "\n",
    "Functions:\n",
    "========== \n",
    "\n",
    "\n",
    "References:\n",
    "===========    \n",
    "    Books:\n",
    "    ======    \n",
    "\n",
    "    \n",
    "    Python Books:\n",
    "    =============    \n",
    "\n",
    "\n",
    "    Problem Books:\n",
    "    ==============    \n",
    "    \n",
    "    \n",
    "    Web Sites:\n",
    "    ==========\n",
    "\n",
    "\n",
    "Homeworks\n",
    "=========\n",
    "\n",
    "\"\"\"\n",
    "import copy\n",
    "import sys\n",
    "import os\n",
    "lstPaths = [\"../../src\"]\n",
    "for ipath in lstPaths:\n",
    "    if ipath not in sys.path:\n",
    "        sys.path.append(ipath)\n",
    "import scipy as sp     \n",
    "from libsympy import *\n",
    "from quantum_mechanics import *\n",
    "\n",
    "global test_all\n",
    "C = CoordSys3D('C') # Cartesian coordinate system.\n",
    "oqmec.__init__(class_type = \"position_space\")\n",
    "test_all = {0:False, 1:True}[1]"
   ]
  },
  {
   "cell_type": "markdown",
   "metadata": {
    "tags": []
   },
   "source": [
    "# Historical and Experimental Foundations"
   ]
  },
  {
   "cell_type": "markdown",
   "metadata": {},
   "source": [
    "## Introduction and Overview"
   ]
  },
  {
   "cell_type": "markdown",
   "metadata": {},
   "source": [
    "## Historically Fundamental Experiments and Insights"
   ]
  },
  {
   "cell_type": "markdown",
   "metadata": {},
   "source": [
    "### Particle Properties of Electromagnetic Waves"
   ]
  },
  {
   "cell_type": "markdown",
   "metadata": {},
   "source": [
    "### Wave Properties of Particles, Diffraction of Matter Waves"
   ]
  },
  {
   "cell_type": "markdown",
   "metadata": {},
   "source": [
    "### Discrete States"
   ]
  },
  {
   "cell_type": "markdown",
   "metadata": {},
   "source": [
    "# The Wave Function and the Schr,dinger Equation"
   ]
  },
  {
   "cell_type": "markdown",
   "metadata": {},
   "source": [
    "## The Wave Function and Its Probability Interpretation"
   ]
  },
  {
   "cell_type": "markdown",
   "metadata": {},
   "source": [
    "## The Schrödinger Equation for Free Particles"
   ]
  },
  {
   "cell_type": "markdown",
   "metadata": {},
   "source": [
    "## Superposition of Plane Waves"
   ]
  },
  {
   "cell_type": "markdown",
   "metadata": {},
   "source": [
    "## The Probability Distribution for a Measurement of Momentum"
   ]
  },
  {
   "cell_type": "markdown",
   "metadata": {},
   "source": [
    "### Illustration of the Uncertainty Principle"
   ]
  },
  {
   "cell_type": "markdown",
   "metadata": {},
   "source": [
    "### Momentum in Coordinate Space"
   ]
  },
  {
   "cell_type": "markdown",
   "metadata": {},
   "source": [
    "### Operators and the Scalar Product"
   ]
  },
  {
   "cell_type": "markdown",
   "metadata": {},
   "source": [
    "## The Correspondence Principle and the Schrödinger Equation"
   ]
  },
  {
   "cell_type": "markdown",
   "metadata": {},
   "source": [
    "### The Correspondence Principle"
   ]
  },
  {
   "cell_type": "markdown",
   "metadata": {},
   "source": [
    "### The Postulates of Quantum Theory"
   ]
  },
  {
   "cell_type": "markdown",
   "metadata": {},
   "source": [
    "### Many-Particle Systems"
   ]
  },
  {
   "cell_type": "markdown",
   "metadata": {},
   "source": [
    "## The Ehrenfest Theorem"
   ]
  },
  {
   "cell_type": "markdown",
   "metadata": {},
   "source": [
    "## The Continuity Equation for the Probability Density"
   ]
  },
  {
   "cell_type": "markdown",
   "metadata": {},
   "source": [
    "## Stationary Solutions of the Schrödinger Equation, Eigenvalue Equations"
   ]
  },
  {
   "cell_type": "markdown",
   "metadata": {},
   "source": [
    "### Stationary States"
   ]
  },
  {
   "cell_type": "markdown",
   "metadata": {},
   "source": [
    "### Eigenvalue Equations"
   ]
  },
  {
   "cell_type": "markdown",
   "metadata": {},
   "source": [
    "### Expansion in Stationary States"
   ]
  },
  {
   "cell_type": "markdown",
   "metadata": {},
   "source": [
    "## The Physical Significance of the Eigenvalues of an Operator"
   ]
  },
  {
   "cell_type": "markdown",
   "metadata": {},
   "source": [
    "### Some Concepts from Probability Theory"
   ]
  },
  {
   "cell_type": "markdown",
   "metadata": {},
   "source": [
    "### Application to Operators with Discrete Eigenvalues"
   ]
  },
  {
   "cell_type": "markdown",
   "metadata": {},
   "source": [
    "### Application to Operators with a Continuous Spectrum"
   ]
  },
  {
   "cell_type": "markdown",
   "metadata": {},
   "source": [
    "### Axioms of Quantum Theory"
   ]
  },
  {
   "cell_type": "markdown",
   "metadata": {},
   "source": [
    "## Additional Points"
   ]
  },
  {
   "cell_type": "markdown",
   "metadata": {},
   "source": [
    "### The General Wave Packet"
   ]
  },
  {
   "cell_type": "markdown",
   "metadata": {},
   "source": [
    "### Remark on the Normalizability of the Continuum States"
   ]
  },
  {
   "cell_type": "markdown",
   "metadata": {},
   "source": [
    "# One-Dimensional Problems"
   ]
  },
  {
   "cell_type": "markdown",
   "metadata": {},
   "source": [
    "## The Harmonic Oscillator"
   ]
  },
  {
   "cell_type": "markdown",
   "metadata": {},
   "source": [
    "### The Algebraic Method"
   ]
  },
  {
   "cell_type": "markdown",
   "metadata": {},
   "source": [
    "### The Hermite Polynomials"
   ]
  },
  {
   "cell_type": "markdown",
   "metadata": {},
   "source": [
    "### The Zero-Point Energy"
   ]
  },
  {
   "cell_type": "markdown",
   "metadata": {},
   "source": [
    "### Coherent States"
   ]
  },
  {
   "cell_type": "markdown",
   "metadata": {},
   "source": [
    "## Potential Steps"
   ]
  },
  {
   "cell_type": "markdown",
   "metadata": {},
   "source": [
    "### Continuity of ψ(x) and ψ'(x) for a Piecewise Continuous Potential"
   ]
  },
  {
   "cell_type": "markdown",
   "metadata": {},
   "source": [
    "### The Potential Step"
   ]
  },
  {
   "cell_type": "markdown",
   "metadata": {},
   "source": [
    "## The Tunneling Effect, the Potential Barrier"
   ]
  },
  {
   "cell_type": "markdown",
   "metadata": {},
   "source": [
    "### The Potential Barrier"
   ]
  },
  {
   "cell_type": "markdown",
   "metadata": {},
   "source": [
    "### The Continuous Potential Barrier"
   ]
  },
  {
   "cell_type": "markdown",
   "metadata": {},
   "source": [
    "### Example of Application: α-decay"
   ]
  },
  {
   "cell_type": "markdown",
   "metadata": {},
   "source": [
    "## The Potential Well"
   ]
  },
  {
   "cell_type": "markdown",
   "metadata": {},
   "source": [
    "### Even Symmetry"
   ]
  },
  {
   "cell_type": "markdown",
   "metadata": {},
   "source": [
    "### Odd Symmetry"
   ]
  },
  {
   "cell_type": "markdown",
   "metadata": {},
   "source": [
    "## Symmetry Properties"
   ]
  },
  {
   "cell_type": "markdown",
   "metadata": {},
   "source": [
    "### Parity"
   ]
  },
  {
   "cell_type": "markdown",
   "metadata": {},
   "source": [
    "### Conjugation"
   ]
  },
  {
   "cell_type": "markdown",
   "metadata": {},
   "source": [
    "## General Discussion of the One-Dimensional Schrödinger Equation"
   ]
  },
  {
   "cell_type": "markdown",
   "metadata": {},
   "source": [
    "## The Potential Well, Resonances"
   ]
  },
  {
   "cell_type": "markdown",
   "metadata": {},
   "source": [
    "### Analytic Properties of the Transmission Coefficient"
   ]
  },
  {
   "cell_type": "markdown",
   "metadata": {},
   "source": [
    "### The Motion of a Wave Packet Near a Resonance"
   ]
  },
  {
   "cell_type": "markdown",
   "metadata": {},
   "source": [
    "# The Uncertainty Relation"
   ]
  },
  {
   "cell_type": "markdown",
   "metadata": {},
   "source": [
    "## The Heisenberg Uncertainty Relation"
   ]
  },
  {
   "cell_type": "markdown",
   "metadata": {},
   "source": [
    "### The Schwarz Inequality"
   ]
  },
  {
   "cell_type": "markdown",
   "metadata": {},
   "source": [
    "### The General Uncertainty Relation"
   ]
  },
  {
   "cell_type": "markdown",
   "metadata": {},
   "source": [
    "## Energy–Time Uncertainty"
   ]
  },
  {
   "cell_type": "markdown",
   "metadata": {},
   "source": [
    "### Passage Time and Energy Uncertainty"
   ]
  },
  {
   "cell_type": "markdown",
   "metadata": {},
   "source": [
    "### Duration of an Energy Measurement and Energy Uncertainty"
   ]
  },
  {
   "cell_type": "markdown",
   "metadata": {},
   "source": [
    "### Lifetime and Energy Uncertainty"
   ]
  },
  {
   "cell_type": "markdown",
   "metadata": {},
   "source": [
    "## Common Eigenfunctions of Commuting Operators"
   ]
  },
  {
   "cell_type": "markdown",
   "metadata": {},
   "source": [
    "# Angular Momentum"
   ]
  },
  {
   "cell_type": "markdown",
   "metadata": {},
   "source": [
    "## Commutation Relations, Rotations"
   ]
  },
  {
   "cell_type": "markdown",
   "metadata": {},
   "source": [
    "## Eigenvalues of Angular Momentum Operators"
   ]
  },
  {
   "cell_type": "markdown",
   "metadata": {},
   "source": [
    "## Orbital Angular Momentum in Polar Coordinates"
   ]
  },
  {
   "cell_type": "markdown",
   "metadata": {},
   "source": [
    "# The Central Potential I"
   ]
  },
  {
   "cell_type": "markdown",
   "metadata": {},
   "source": [
    "## Spherical Coordinates"
   ]
  },
  {
   "cell_type": "markdown",
   "metadata": {},
   "source": [
    "## Bound States in Three Dimensions"
   ]
  },
  {
   "cell_type": "markdown",
   "metadata": {},
   "source": [
    "## The Coulomb Potential"
   ]
  },
  {
   "cell_type": "markdown",
   "metadata": {},
   "source": [
    "## The Two-Body Problem"
   ]
  },
  {
   "cell_type": "markdown",
   "metadata": {},
   "source": [
    "# Motion in an Electromagnetic Field"
   ]
  },
  {
   "cell_type": "markdown",
   "metadata": {},
   "source": [
    "## The Hamiltonian"
   ]
  },
  {
   "cell_type": "markdown",
   "metadata": {},
   "source": [
    "## Election in a Magnetic-Field, Larmor precession"
   ]
  },
  {
   "cell_type": "markdown",
   "metadata": {},
   "source": [
    "**Griffiths2005, Example 4.3**"
   ]
  },
  {
   "cell_type": "code",
   "execution_count": 2,
   "metadata": {},
   "outputs": [
    {
     "data": {
      "text/latex": [
       "$\\displaystyle \\bf{B}=$"
      ],
      "text/plain": [
       "<IPython.core.display.Math object>"
      ]
     },
     "metadata": {},
     "output_type": "display_data"
    },
    {
     "data": {
      "image/png": "[encoded data removed]",
      "text/latex": [
       "$\\displaystyle \\left(B_{0}\\right)\\mathbf{\\hat{k}_{C}}$"
      ],
      "text/plain": [
       "(B₀) k_C"
      ]
     },
     "metadata": {},
     "output_type": "display_data"
    },
    {
     "data": {
      "text/latex": [
       "$\\displaystyle \\bf{S}=$"
      ],
      "text/plain": [
       "<IPython.core.display.Math object>"
      ]
     },
     "metadata": {},
     "output_type": "display_data"
    },
    {
     "data": {
      "image/png": "[encoded data removed]",
      "text/latex": [
       "$\\displaystyle \\left(S_{x}\\right)\\mathbf{\\hat{i}_{C}} + \\left(S_{y}\\right)\\mathbf{\\hat{j}_{C}} + \\left(S_{z}\\right)\\mathbf{\\hat{k}_{C}}$"
      ],
      "text/plain": [
       "(Sₓ) i_C + (S_y) j_C + (S_z) k_C"
      ]
     },
     "metadata": {},
     "output_type": "display_data"
    },
    {
     "data": {
      "image/png": "[encoded data removed]",
      "text/latex": [
       "$\\displaystyle H = - B_{0} S_{z} \\gamma$"
      ],
      "text/plain": [
       "H = -B₀⋅S_z⋅γ"
      ]
     },
     "metadata": {},
     "output_type": "display_data"
    },
    {
     "data": {
      "image/png": "[encoded data removed]",
      "text/latex": [
       "$\\displaystyle H = - \\frac{\\hbar B_{0} \\gamma \\left[\\begin{matrix}1 & 0\\\\0 & -1\\end{matrix}\\right]}{2}$"
      ],
      "text/plain": [
       "            ⎡1  0 ⎤ \n",
       "    -ℏ⋅B₀⋅γ⋅⎢     ⎥ \n",
       "            ⎣0  -1⎦ \n",
       "H = ────────────────\n",
       "           2        "
      ]
     },
     "metadata": {},
     "output_type": "display_data"
    },
    {
     "data": {
      "text/plain": [
       "'H='"
      ]
     },
     "metadata": {},
     "output_type": "display_data"
    },
    {
     "data": {
      "image/png": "[encoded data removed]",
      "text/latex": [
       "$\\displaystyle \\left[\\begin{matrix}- \\frac{\\hbar B_{0} \\gamma}{2} & 0\\\\0 & \\frac{\\hbar B_{0} \\gamma}{2}\\end{matrix}\\right]$"
      ],
      "text/plain": [
       "⎡-ℏ⋅B₀⋅γ         ⎤\n",
       "⎢────────    0   ⎥\n",
       "⎢   2            ⎥\n",
       "⎢                ⎥\n",
       "⎢          ℏ⋅B₀⋅γ⎥\n",
       "⎢   0      ──────⎥\n",
       "⎣            2   ⎦"
      ]
     },
     "metadata": {},
     "output_type": "display_data"
    },
    {
     "data": {
      "text/plain": [
       "'Eigenvectors='"
      ]
     },
     "metadata": {},
     "output_type": "display_data"
    },
    {
     "data": {
      "image/png": "[encoded data removed]",
      "text/latex": [
       "$\\displaystyle \\left[ \\left( - \\frac{\\hbar B_{0} \\gamma}{2}, \\  1, \\  \\left[ \\left[\\begin{matrix}1\\\\0\\end{matrix}\\right]\\right]\\right), \\  \\left( \\frac{\\hbar B_{0} \\gamma}{2}, \\  1, \\  \\left[ \\left[\\begin{matrix}0\\\\1\\end{matrix}\\right]\\right]\\right)\\right]$"
      ],
      "text/plain": [
       "⎡⎛-ℏ⋅B₀⋅γ      ⎡⎡1⎤⎤⎞  ⎛ℏ⋅B₀⋅γ     ⎡⎡0⎤⎤⎞⎤\n",
       "⎢⎜────────, 1, ⎢⎢ ⎥⎥⎟, ⎜──────, 1, ⎢⎢ ⎥⎥⎟⎥\n",
       "⎣⎝   2         ⎣⎣0⎦⎦⎠  ⎝  2        ⎣⎣1⎦⎦⎠⎦"
      ]
     },
     "metadata": {},
     "output_type": "display_data"
    },
    {
     "data": {
      "text/plain": [
       "'Energy spectrum='"
      ]
     },
     "metadata": {},
     "output_type": "display_data"
    },
    {
     "data": {
      "image/png": "[encoded data removed]",
      "text/latex": [
       "$\\displaystyle \\left[ - \\frac{\\hbar B_{0} \\gamma}{2}, \\  \\frac{\\hbar B_{0} \\gamma}{2}\\right]$"
      ],
      "text/plain": [
       "⎡-ℏ⋅B₀⋅γ   ℏ⋅B₀⋅γ⎤\n",
       "⎢────────, ──────⎥\n",
       "⎣   2        2   ⎦"
      ]
     },
     "metadata": {},
     "output_type": "display_data"
    }
   ],
   "source": [
    "B0 = symbols('B_0', real=True)\n",
    "B  = B0*C.k\n",
    "Sp = oqmec.Hamiltonian.Sp\n",
    "H1 = oqmec.Hamiltonian.e_in_B(B)\n",
    "H2 = H1.xreplace({Sz:oqmec.Sz.rhs})\n",
    "H = H2.rhs.doit()\n",
    "Evecs = H.eigenvects()\n",
    "E1,E2 = [H.eigenvects()[0][0], H.eigenvects()[1][0]]\n",
    "\n",
    "pprints(Math(r\"\\bf{B}=\"), B,\n",
    "        Math(r\"\\bf{S}=\"), Sp,\n",
    "        H1, H2, \"H=\", H, \n",
    "        \"Eigenvectors=\", Evecs,\n",
    "        \"Energy spectrum=\", [E1, E2])"
   ]
  },
  {
   "cell_type": "code",
   "execution_count": 18,
   "metadata": {},
   "outputs": [
    {
     "data": {
      "text/plain": [
       "'Xi'"
      ]
     },
     "metadata": {},
     "output_type": "display_data"
    },
    {
     "data": {
      "image/png": "[encoded data removed]",
      "text/latex": [
       "$\\displaystyle a e^{\\frac{i B_{0} \\gamma t}{2}} \\left[\\begin{matrix}1\\\\0\\end{matrix}\\right] + b e^{- \\frac{i B_{0} \\gamma t}{2}} \\left[\\begin{matrix}0\\\\1\\end{matrix}\\right]$"
      ],
      "text/plain": [
       "   ⅈ⋅B₀⋅γ⋅t          -ⅈ⋅B₀⋅γ⋅t     \n",
       "   ────────          ──────────    \n",
       "      2     ⎡1⎤          2      ⎡0⎤\n",
       "a⋅ℯ        ⋅⎢ ⎥ + b⋅ℯ          ⋅⎢ ⎥\n",
       "            ⎣0⎦                 ⎣1⎦"
      ]
     },
     "metadata": {},
     "output_type": "display_data"
    },
    {
     "data": {
      "text/plain": [
       "'Xi'"
      ]
     },
     "metadata": {},
     "output_type": "display_data"
    },
    {
     "data": {
      "image/png": "[encoded data removed]",
      "text/latex": [
       "$\\displaystyle \\left[\\begin{matrix}a e^{\\frac{i B_{0} \\gamma t}{2}}\\\\b e^{- \\frac{i B_{0} \\gamma t}{2}}\\end{matrix}\\right]$"
      ],
      "text/plain": [
       "⎡    ⅈ⋅B₀⋅γ⋅t ⎤\n",
       "⎢    ──────── ⎥\n",
       "⎢       2     ⎥\n",
       "⎢ a⋅ℯ         ⎥\n",
       "⎢             ⎥\n",
       "⎢   -ⅈ⋅B₀⋅γ⋅t ⎥\n",
       "⎢   ──────────⎥\n",
       "⎢       2     ⎥\n",
       "⎣b⋅ℯ          ⎦"
      ]
     },
     "metadata": {},
     "output_type": "display_data"
    },
    {
     "data": {
      "text/plain": [
       "'Xi'"
      ]
     },
     "metadata": {},
     "output_type": "display_data"
    },
    {
     "data": {
      "image/png": "[encoded data removed]",
      "text/latex": [
       "$\\displaystyle \\left[\\begin{matrix}e^{\\frac{i B_{0} \\gamma t}{2}} \\cos{\\left(\\frac{\\alpha}{2} \\right)}\\\\e^{- \\frac{i B_{0} \\gamma t}{2}} \\sin{\\left(\\frac{\\alpha}{2} \\right)}\\end{matrix}\\right]$"
      ],
      "text/plain": [
       "⎡  ⅈ⋅B₀⋅γ⋅t        ⎤\n",
       "⎢  ────────        ⎥\n",
       "⎢     2        ⎛α⎞ ⎥\n",
       "⎢ ℯ        ⋅cos⎜─⎟ ⎥\n",
       "⎢              ⎝2⎠ ⎥\n",
       "⎢                  ⎥\n",
       "⎢ -ⅈ⋅B₀⋅γ⋅t        ⎥\n",
       "⎢ ──────────       ⎥\n",
       "⎢     2         ⎛α⎞⎥\n",
       "⎢ℯ          ⋅sin⎜─⎟⎥\n",
       "⎣               ⎝2⎠⎦"
      ]
     },
     "metadata": {},
     "output_type": "display_data"
    },
    {
     "data": {
      "text/plain": [
       "'<Sx>=<Xi|Sx|Xi>'"
      ]
     },
     "metadata": {},
     "output_type": "display_data"
    },
    {
     "data": {
      "image/png": "[encoded data removed]",
      "text/latex": [
       "$\\displaystyle \\left[\\begin{matrix}\\frac{\\hbar e^{i B_{0} \\gamma t} \\sin{\\left(\\frac{\\overline{\\alpha}}{2} \\right)} \\cos{\\left(\\frac{\\alpha}{2} \\right)}}{2} + \\frac{\\hbar e^{- i B_{0} \\gamma t} \\sin{\\left(\\frac{\\alpha}{2} \\right)} \\cos{\\left(\\frac{\\overline{\\alpha}}{2} \\right)}}{2}\\end{matrix}\\right]$"
      ],
      "text/plain": [
       "⎡               ⎛_⎞                                 ⎛_⎞⎤\n",
       "⎢   ⅈ⋅B₀⋅γ⋅t    ⎜α⎟    ⎛α⎞      -ⅈ⋅B₀⋅γ⋅t    ⎛α⎞    ⎜α⎟⎥\n",
       "⎢ℏ⋅ℯ        ⋅sin⎜─⎟⋅cos⎜─⎟   ℏ⋅ℯ         ⋅sin⎜─⎟⋅cos⎜─⎟⎥\n",
       "⎢               ⎝2⎠    ⎝2⎠                   ⎝2⎠    ⎝2⎠⎥\n",
       "⎢───────────────────────── + ──────────────────────────⎥\n",
       "⎣            2                           2             ⎦"
      ]
     },
     "metadata": {},
     "output_type": "display_data"
    },
    {
     "data": {
      "text/plain": [
       "'<Sx>'"
      ]
     },
     "metadata": {},
     "output_type": "display_data"
    },
    {
     "data": {
      "image/png": "[encoded data removed]",
      "text/latex": [
       "$\\displaystyle \\left[\\begin{matrix}\\frac{\\hbar \\left(e^{2 i B_{0} \\gamma t} \\sin{\\left(\\frac{\\overline{\\alpha}}{2} \\right)} \\cos{\\left(\\frac{\\alpha}{2} \\right)} + \\sin{\\left(\\frac{\\alpha}{2} \\right)} \\cos{\\left(\\frac{\\overline{\\alpha}}{2} \\right)}\\right) e^{- i B_{0} \\gamma t}}{2}\\end{matrix}\\right]$"
      ],
      "text/plain": [
       "⎡  ⎛               ⎛_⎞                    ⎛_⎞⎞           ⎤\n",
       "⎢  ⎜ 2⋅ⅈ⋅B₀⋅γ⋅t    ⎜α⎟    ⎛α⎞      ⎛α⎞    ⎜α⎟⎟  -ⅈ⋅B₀⋅γ⋅t⎥\n",
       "⎢ℏ⋅⎜ℯ          ⋅sin⎜─⎟⋅cos⎜─⎟ + sin⎜─⎟⋅cos⎜─⎟⎟⋅ℯ         ⎥\n",
       "⎢  ⎝               ⎝2⎠    ⎝2⎠      ⎝2⎠    ⎝2⎠⎠           ⎥\n",
       "⎢────────────────────────────────────────────────────────⎥\n",
       "⎣                           2                            ⎦"
      ]
     },
     "metadata": {},
     "output_type": "display_data"
    },
    {
     "data": {
      "text/plain": [
       "'<Sy>'"
      ]
     },
     "metadata": {},
     "output_type": "display_data"
    },
    {
     "data": {
      "image/png": "[encoded data removed]",
      "text/latex": [
       "$\\displaystyle \\left[\\begin{matrix}\\frac{\\hbar i \\left(e^{2 i B_{0} \\gamma t} \\sin{\\left(\\frac{\\overline{\\alpha}}{2} \\right)} \\cos{\\left(\\frac{\\alpha}{2} \\right)} - \\sin{\\left(\\frac{\\alpha}{2} \\right)} \\cos{\\left(\\frac{\\overline{\\alpha}}{2} \\right)}\\right) e^{- i B_{0} \\gamma t}}{2}\\end{matrix}\\right]$"
      ],
      "text/plain": [
       "⎡    ⎛               ⎛_⎞                    ⎛_⎞⎞           ⎤\n",
       "⎢    ⎜ 2⋅ⅈ⋅B₀⋅γ⋅t    ⎜α⎟    ⎛α⎞      ⎛α⎞    ⎜α⎟⎟  -ⅈ⋅B₀⋅γ⋅t⎥\n",
       "⎢ℏ⋅ⅈ⋅⎜ℯ          ⋅sin⎜─⎟⋅cos⎜─⎟ - sin⎜─⎟⋅cos⎜─⎟⎟⋅ℯ         ⎥\n",
       "⎢    ⎝               ⎝2⎠    ⎝2⎠      ⎝2⎠    ⎝2⎠⎠           ⎥\n",
       "⎢──────────────────────────────────────────────────────────⎥\n",
       "⎣                            2                             ⎦"
      ]
     },
     "metadata": {},
     "output_type": "display_data"
    },
    {
     "data": {
      "text/plain": [
       "'<Sz>'"
      ]
     },
     "metadata": {},
     "output_type": "display_data"
    },
    {
     "data": {
      "image/png": "[encoded data removed]",
      "text/latex": [
       "$\\displaystyle \\left[\\begin{matrix}\\frac{\\hbar \\cos{\\left(\\frac{\\alpha}{2} + \\frac{\\overline{\\alpha}}{2} \\right)}}{2}\\end{matrix}\\right]$"
      ],
      "text/plain": [
       "⎡     ⎛    _⎞⎤\n",
       "⎢     ⎜α   α⎟⎥\n",
       "⎢ℏ⋅cos⎜─ + ─⎟⎥\n",
       "⎢     ⎝2   2⎠⎥\n",
       "⎢────────────⎥\n",
       "⎣     2      ⎦"
      ]
     },
     "metadata": {},
     "output_type": "display_data"
    }
   ],
   "source": [
    "Xi1 = a*oqmec.sz_up.rhs*exp(-I*E1*t/hbar) + b*oqmec.sz_down.rhs*exp(-I*E2*t/hbar)\n",
    "Xi2 = Xi1.doit()\n",
    "substitutions = {a:cos(alpha/2), b:sin(alpha/2)}\n",
    "Xi = Xi2.xreplace(substitutions)\n",
    "expSx1 = Xi.adjoint()*oqmec.Sx.rhs.doit()*Xi\n",
    "# expSx = expSx1.rewrite(sin)\n",
    "expSx = simplify(expSx1)\n",
    "expSy = simplify(Xi.adjoint()*oqmec.Sy.rhs.doit()*Xi)\n",
    "expSz = simplify(Xi.adjoint()*oqmec.Sz.rhs.doit()*Xi)\n",
    "\n",
    "pprints(\"Xi\", Xi1, \"Xi\", Xi2, \"Xi\", Xi, \n",
    "        \"<Sx>=<Xi|Sx|Xi>\", expSx1,\n",
    "        \"<Sx>\", expSx,\n",
    "        \"<Sy>\", expSy,\n",
    "        \"<Sz>\", expSz)"
   ]
  },
  {
   "cell_type": "markdown",
   "metadata": {
    "jp-MarkdownHeadingCollapsed": true
   },
   "source": [
    "## Constant Magnetic Field B"
   ]
  },
  {
   "cell_type": "markdown",
   "metadata": {},
   "source": [
    "## The Normal Zeeman Effect"
   ]
  },
  {
   "cell_type": "code",
   "execution_count": null,
   "metadata": {},
   "outputs": [],
   "source": []
  },
  {
   "cell_type": "markdown",
   "metadata": {},
   "source": [
    "## Canonical and Kinetic Momentum, Gauge Transformation"
   ]
  },
  {
   "cell_type": "markdown",
   "metadata": {},
   "source": [
    "### Canonical and Kinetic Momentum"
   ]
  },
  {
   "cell_type": "markdown",
   "metadata": {},
   "source": [
    "### Change of the Wave Function Under a Gauge Transformation"
   ]
  },
  {
   "cell_type": "markdown",
   "metadata": {},
   "source": [
    "## The Aharonov–Bohm Effect"
   ]
  },
  {
   "cell_type": "markdown",
   "metadata": {},
   "source": [
    "### The Wave Function in a Region Free of Magnetic Fields"
   ]
  },
  {
   "cell_type": "markdown",
   "metadata": {},
   "source": [
    "### The Aharonov–Bohm Interference Experiment"
   ]
  },
  {
   "cell_type": "markdown",
   "metadata": {},
   "source": [
    "## Flux Quantization in Superconductors"
   ]
  },
  {
   "cell_type": "markdown",
   "metadata": {},
   "source": [
    "## Free Electrons in a Magnetic Field"
   ]
  },
  {
   "cell_type": "markdown",
   "metadata": {},
   "source": [
    "# Operators, Matrices, State Vectors"
   ]
  },
  {
   "cell_type": "markdown",
   "metadata": {},
   "source": [
    "## Matrices, Vectors, and Unitary Transformations"
   ]
  },
  {
   "cell_type": "markdown",
   "metadata": {},
   "source": [
    "## State Vectors and Dirac Notation"
   ]
  },
  {
   "cell_type": "markdown",
   "metadata": {},
   "source": [
    "## The Axioms of Quantum Mechanics"
   ]
  },
  {
   "cell_type": "markdown",
   "metadata": {},
   "source": [
    "### Coordinate Representation"
   ]
  },
  {
   "cell_type": "markdown",
   "metadata": {},
   "source": [
    "### Momentum Representation"
   ]
  },
  {
   "cell_type": "markdown",
   "metadata": {},
   "source": [
    "### Representation in Terms of a Discrete Basis System"
   ]
  },
  {
   "cell_type": "markdown",
   "metadata": {},
   "source": [
    "## Multidimensional Systems and Many-Particle Systems"
   ]
  },
  {
   "cell_type": "markdown",
   "metadata": {},
   "source": [
    "## The Schrödinger, Heisenberg and Interaction Representations"
   ]
  },
  {
   "cell_type": "markdown",
   "metadata": {},
   "source": [
    "### The Schrödinger Representation"
   ]
  },
  {
   "cell_type": "markdown",
   "metadata": {},
   "source": [
    "### The Heisenberg Representation"
   ]
  },
  {
   "cell_type": "markdown",
   "metadata": {},
   "source": [
    "### The Interaction Picture (or Dirac Representation)"
   ]
  },
  {
   "cell_type": "markdown",
   "metadata": {},
   "source": [
    "## The Motion of a Free Electron in a Magnetic Field"
   ]
  },
  {
   "cell_type": "markdown",
   "metadata": {},
   "source": [
    "# Spin"
   ]
  },
  {
   "cell_type": "markdown",
   "metadata": {},
   "source": [
    "## The Experimental Discovery of the Internal Angular Momentum"
   ]
  },
  {
   "cell_type": "markdown",
   "metadata": {},
   "source": [
    "### The “Normal” Zeeman Effect"
   ]
  },
  {
   "cell_type": "markdown",
   "metadata": {},
   "source": [
    "### The Stern–Gerlach Experiment"
   ]
  },
  {
   "cell_type": "markdown",
   "metadata": {},
   "source": [
    "## Mathematical Formulation for Spin-1/2"
   ]
  },
  {
   "cell_type": "markdown",
   "metadata": {},
   "source": [
    "## Properties of the Pauli Matrices"
   ]
  },
  {
   "cell_type": "markdown",
   "metadata": {},
   "source": [
    "## States, Spinors"
   ]
  },
  {
   "cell_type": "markdown",
   "metadata": {},
   "source": [
    "$S=S_x\\hat{i}+S_y\\hat{j}+S_z\\hat{k}$\n",
    "\n",
    "$n=n_x\\hat{i}+n_y\\hat{j}+n_z\\hat{k}$\n",
    "\n",
    "$S_n = S.n$"
   ]
  },
  {
   "cell_type": "code",
   "execution_count": 33,
   "metadata": {},
   "outputs": [
    {
     "data": {
      "text/latex": [
       "$\\displaystyle n_x=$"
      ],
      "text/plain": [
       "<IPython.core.display.Math object>"
      ]
     },
     "metadata": {},
     "output_type": "display_data"
    },
    {
     "data": {
      "image/png": "[encoded data removed]",
      "text/latex": [
       "$\\displaystyle \\sin{\\left(\\theta \\right)} \\cos{\\left(\\phi \\right)}$"
      ],
      "text/plain": [
       "sin(θ)⋅cos(φ)"
      ]
     },
     "metadata": {},
     "output_type": "display_data"
    },
    {
     "data": {
      "image/png": "[encoded data removed]",
      "text/latex": [
       "$\\displaystyle n_{x} = \\sin{\\left(\\theta \\right)} \\cos{\\left(\\phi \\right)}$"
      ],
      "text/plain": [
       "nₓ = sin(θ)⋅cos(φ)"
      ]
     },
     "metadata": {},
     "output_type": "display_data"
    },
    {
     "data": {
      "image/png": "[encoded data removed]",
      "text/latex": [
       "$\\displaystyle n_{y} = \\sin{\\left(\\phi \\right)} \\sin{\\left(\\theta \\right)}$"
      ],
      "text/plain": [
       "n_y = sin(φ)⋅sin(θ)"
      ]
     },
     "metadata": {},
     "output_type": "display_data"
    },
    {
     "data": {
      "image/png": "[encoded data removed]",
      "text/latex": [
       "$\\displaystyle n_{z} = \\cos{\\left(\\theta \\right)}$"
      ],
      "text/plain": [
       "n_z = cos(θ)"
      ]
     },
     "metadata": {},
     "output_type": "display_data"
    },
    {
     "data": {
      "image/png": "[encoded data removed]",
      "text/latex": [
       "$\\displaystyle \\left(\\sin{\\left(\\theta \\right)} \\cos{\\left(\\phi \\right)}\\right)\\mathbf{\\hat{i}_{C}} + \\left(\\sin{\\left(\\phi \\right)} \\sin{\\left(\\theta \\right)}\\right)\\mathbf{\\hat{j}_{C}} + \\left(\\cos{\\left(\\theta \\right)}\\right)\\mathbf{\\hat{k}_{C}}$"
      ],
      "text/plain": [
       "(sin(θ)⋅cos(φ)) i_C + (sin(φ)⋅sin(θ)) j_C + (cos(θ)) k_C"
      ]
     },
     "metadata": {},
     "output_type": "display_data"
    },
    {
     "data": {
      "image/png": "[encoded data removed]",
      "text/latex": [
       "$\\displaystyle \\left(\\frac{\\hbar \\left[\\begin{matrix}0 & 1\\\\1 & 0\\end{matrix}\\right]}{2}\\right)\\mathbf{\\hat{i}_{C}} + \\left(\\frac{\\hbar \\left[\\begin{matrix}0 & - i\\\\i & 0\\end{matrix}\\right]}{2}\\right)\\mathbf{\\hat{j}_{C}} + \\left(\\frac{\\hbar \\left[\\begin{matrix}1 & 0\\\\0 & -1\\end{matrix}\\right]}{2}\\right)\\mathbf{\\hat{k}_{C}}$"
      ],
      "text/plain": [
       "⎛  ⎡0  1⎤⎞       ⎛  ⎡0  -ⅈ⎤⎞       ⎛  ⎡1  0 ⎤⎞    \n",
       "⎜ℏ⋅⎢    ⎥⎟ i_C + ⎜ℏ⋅⎢     ⎥⎟ j_C + ⎜ℏ⋅⎢     ⎥⎟ k_C\n",
       "⎜  ⎣1  0⎦⎟       ⎜  ⎣ⅈ  0 ⎦⎟       ⎜  ⎣0  -1⎦⎟    \n",
       "⎜────────⎟       ⎜─────────⎟       ⎜─────────⎟    \n",
       "⎝   2    ⎠       ⎝    2    ⎠       ⎝    2    ⎠    "
      ]
     },
     "metadata": {},
     "output_type": "display_data"
    },
    {
     "data": {
      "image/png": "[encoded data removed]",
      "text/latex": [
       "$\\displaystyle \\frac{\\hbar \\sin{\\left(\\phi \\right)} \\sin{\\left(\\theta \\right)} \\left[\\begin{matrix}0 & - i\\\\i & 0\\end{matrix}\\right]}{2} + \\frac{\\hbar \\sin{\\left(\\theta \\right)} \\cos{\\left(\\phi \\right)} \\left[\\begin{matrix}0 & 1\\\\1 & 0\\end{matrix}\\right]}{2} + \\frac{\\hbar \\cos{\\left(\\theta \\right)} \\left[\\begin{matrix}1 & 0\\\\0 & -1\\end{matrix}\\right]}{2}$"
      ],
      "text/plain": [
       "                ⎡0  -ⅈ⎤                   ⎡0  1⎤            ⎡1  0 ⎤\n",
       "ℏ⋅sin(φ)⋅sin(θ)⋅⎢     ⎥   ℏ⋅sin(θ)⋅cos(φ)⋅⎢    ⎥   ℏ⋅cos(θ)⋅⎢     ⎥\n",
       "                ⎣ⅈ  0 ⎦                   ⎣1  0⎦            ⎣0  -1⎦\n",
       "─────────────────────── + ────────────────────── + ────────────────\n",
       "           2                        2                     2        "
      ]
     },
     "metadata": {},
     "output_type": "display_data"
    },
    {
     "data": {
      "image/png": "[encoded data removed]",
      "text/latex": [
       "$\\displaystyle \\left[\\begin{matrix}\\frac{\\hbar \\cos{\\left(\\theta \\right)}}{2} & \\frac{\\hbar \\left(- i \\sin{\\left(\\phi \\right)} + \\cos{\\left(\\phi \\right)}\\right) \\sin{\\left(\\theta \\right)}}{2}\\\\\\frac{\\hbar \\left(i \\sin{\\left(\\phi \\right)} + \\cos{\\left(\\phi \\right)}\\right) \\sin{\\left(\\theta \\right)}}{2} & - \\frac{\\hbar \\cos{\\left(\\theta \\right)}}{2}\\end{matrix}\\right]$"
      ],
      "text/plain": [
       "⎡          ℏ⋅cos(θ)            ℏ⋅(-ⅈ⋅sin(φ) + cos(φ))⋅sin(θ)⎤\n",
       "⎢          ────────            ─────────────────────────────⎥\n",
       "⎢             2                              2              ⎥\n",
       "⎢                                                           ⎥\n",
       "⎢ℏ⋅(ⅈ⋅sin(φ) + cos(φ))⋅sin(θ)           -ℏ⋅cos(θ)           ⎥\n",
       "⎢────────────────────────────           ──────────          ⎥\n",
       "⎣             2                             2               ⎦"
      ]
     },
     "metadata": {},
     "output_type": "display_data"
    }
   ],
   "source": [
    "n = sin(theta)*cos(phi)*C.i + sin(theta)*sin(phi)*C.j + cos(theta)*C.k\n",
    "nx, ny, nz = [n.components[C.i], n.components[C.j], n.components[C.k]] \n",
    "display(Math(r\"n_x=\"), nx)\n",
    "pprints(Eq(var('n_x'), nx),\n",
    "        Eq(var('n_y'), ny),\n",
    "        Eq(var('n_z'), nz))\n",
    "\n",
    "Sv = oqmec.Sx.rhs*C.i + oqmec.Sy.rhs*C.j + oqmec.Sz.rhs*C.k\n",
    "Sn1 = Sv.dot(n)\n",
    "Sn = trigsimp(Sv.dot(n).doit())\n",
    "display(n, Sv, Sn1, Sn)"
   ]
  },
  {
   "cell_type": "code",
   "execution_count": 4,
   "metadata": {},
   "outputs": [
    {
     "data": {
      "image/png": "[encoded data removed]",
      "text/latex": [
       "$\\displaystyle \\left\\{ - \\frac{\\hbar}{2} : 1, \\  \\frac{\\hbar}{2} : 1\\right\\}$"
      ],
      "text/plain": [
       "⎧-ℏ      ℏ   ⎫\n",
       "⎨───: 1, ─: 1⎬\n",
       "⎩ 2      2   ⎭"
      ]
     },
     "execution_count": 4,
     "metadata": {},
     "output_type": "execute_result"
    }
   ],
   "source": [
    "Sn.eigenvals()"
   ]
  },
  {
   "cell_type": "code",
   "execution_count": 5,
   "metadata": {},
   "outputs": [
    {
     "data": {
      "image/png": "[encoded data removed]",
      "text/latex": [
       "$\\displaystyle l^{2} - \\frac{\\hbar^{2} \\sin^{2}{\\left(\\phi \\right)} \\sin^{2}{\\left(\\theta \\right)}}{4} - \\frac{\\hbar^{2} \\sin^{2}{\\left(\\theta \\right)} \\cos^{2}{\\left(\\phi \\right)}}{4} - \\frac{\\hbar^{2} \\cos^{2}{\\left(\\theta \\right)}}{4}$"
      ],
      "text/plain": [
       "      2    2       2       2    2       2       2    2   \n",
       " 2   ℏ ⋅sin (φ)⋅sin (θ)   ℏ ⋅sin (θ)⋅cos (φ)   ℏ ⋅cos (θ)\n",
       "l  - ────────────────── - ────────────────── - ──────────\n",
       "             4                    4                4     "
      ]
     },
     "execution_count": 5,
     "metadata": {},
     "output_type": "execute_result"
    }
   ],
   "source": [
    "det(Sn-l*eye(2))"
   ]
  },
  {
   "cell_type": "code",
   "execution_count": 6,
   "metadata": {},
   "outputs": [
    {
     "data": {
      "image/png": "[encoded data removed]",
      "text/latex": [
       "$\\displaystyle \\left[ - \\frac{\\hbar}{2}, \\  \\frac{\\hbar}{2}\\right]$"
      ],
      "text/plain": [
       "⎡-ℏ   ℏ⎤\n",
       "⎢───, ─⎥\n",
       "⎣ 2   2⎦"
      ]
     },
     "execution_count": 6,
     "metadata": {},
     "output_type": "execute_result"
    }
   ],
   "source": [
    "solve(det(Sn-l*eye(2)), l)"
   ]
  },
  {
   "cell_type": "markdown",
   "metadata": {},
   "source": [
    "$\\lambda$ is an eigenvalue operator.\n",
    "\n",
    "$\\lambda(S_n^2) = \\sqrt{\\lambda(S_{nx}^2)+\\lambda(S_{ny}^2)+\\lambda(S_{nz}^2)}$ is true ?"
   ]
  },
  {
   "cell_type": "code",
   "execution_count": 8,
   "metadata": {},
   "outputs": [
    {
     "data": {
      "image/png": "[encoded data removed]",
      "text/latex": [
       "$\\displaystyle \\left\\{ \\frac{\\hbar^{2} \\sin^{2}{\\left(\\theta \\right)} \\cos^{2}{\\left(\\phi \\right)}}{4} : 2\\right\\}$"
      ],
      "text/plain": [
       "⎧ 2    2       2      ⎫\n",
       "⎪ℏ ⋅sin (θ)⋅cos (φ)   ⎪\n",
       "⎨──────────────────: 2⎬\n",
       "⎪        4            ⎪\n",
       "⎩                     ⎭"
      ]
     },
     "metadata": {},
     "output_type": "display_data"
    },
    {
     "data": {
      "image/png": "[encoded data removed]",
      "text/latex": [
       "$\\displaystyle \\left\\{ \\frac{\\hbar^{2} \\sin^{2}{\\left(\\phi \\right)} \\sin^{2}{\\left(\\theta \\right)}}{4} : 2\\right\\}$"
      ],
      "text/plain": [
       "⎧ 2    2       2      ⎫\n",
       "⎪ℏ ⋅sin (φ)⋅sin (θ)   ⎪\n",
       "⎨──────────────────: 2⎬\n",
       "⎪        4            ⎪\n",
       "⎩                     ⎭"
      ]
     },
     "metadata": {},
     "output_type": "display_data"
    },
    {
     "data": {
      "image/png": "[encoded data removed]",
      "text/latex": [
       "$\\displaystyle \\left\\{ \\frac{\\hbar^{2} \\cos^{2}{\\left(\\theta \\right)}}{4} : 2\\right\\}$"
      ],
      "text/plain": [
       "⎧ 2    2      ⎫\n",
       "⎪ℏ ⋅cos (θ)   ⎪\n",
       "⎨──────────: 2⎬\n",
       "⎪    4        ⎪\n",
       "⎩             ⎭"
      ]
     },
     "metadata": {},
     "output_type": "display_data"
    },
    {
     "data": {
      "image/png": "[encoded data removed]",
      "text/latex": [
       "$\\displaystyle \\frac{\\hbar}{2}$"
      ],
      "text/plain": [
       "ℏ\n",
       "─\n",
       "2"
      ]
     },
     "metadata": {},
     "output_type": "display_data"
    }
   ],
   "source": [
    "l1 = ((oqmec.Sx.rhs.doit()*nx)**2).eigenvals()\n",
    "l2 = ((oqmec.Sy.rhs.doit()*ny)**2).eigenvals()\n",
    "l3 = ((oqmec.Sz.rhs.doit()*nz)**2).eigenvals()\n",
    "l = sqrt(simplify(list(l1.keys())[0] + list(l2.keys())[0] + list(l3.keys())[0]))\n",
    "display(l1, l2, l3, l)"
   ]
  },
  {
   "cell_type": "code",
   "execution_count": 9,
   "metadata": {},
   "outputs": [
    {
     "data": {
      "image/png": "[encoded data removed]",
      "text/latex": [
       "$\\displaystyle \\left[\\begin{matrix}\\frac{\\hbar^{2} \\sin^{2}{\\left(\\theta \\right)} \\cos^{2}{\\left(\\phi \\right)}}{4} & 0\\\\0 & \\frac{\\hbar^{2} \\sin^{2}{\\left(\\theta \\right)} \\cos^{2}{\\left(\\phi \\right)}}{4}\\end{matrix}\\right]$"
      ],
      "text/plain": [
       "⎡ 2    2       2                       ⎤\n",
       "⎢ℏ ⋅sin (θ)⋅cos (φ)                    ⎥\n",
       "⎢──────────────────          0         ⎥\n",
       "⎢        4                             ⎥\n",
       "⎢                                      ⎥\n",
       "⎢                     2    2       2   ⎥\n",
       "⎢                    ℏ ⋅sin (θ)⋅cos (φ)⎥\n",
       "⎢        0           ──────────────────⎥\n",
       "⎣                            4         ⎦"
      ]
     },
     "metadata": {},
     "output_type": "display_data"
    },
    {
     "data": {
      "image/png": "[encoded data removed]",
      "text/latex": [
       "$\\displaystyle \\left[\\begin{matrix}\\frac{\\hbar^{2} \\sin^{2}{\\left(\\phi \\right)} \\sin^{2}{\\left(\\theta \\right)}}{4} & 0\\\\0 & \\frac{\\hbar^{2} \\sin^{2}{\\left(\\phi \\right)} \\sin^{2}{\\left(\\theta \\right)}}{4}\\end{matrix}\\right]$"
      ],
      "text/plain": [
       "⎡ 2    2       2                       ⎤\n",
       "⎢ℏ ⋅sin (φ)⋅sin (θ)                    ⎥\n",
       "⎢──────────────────          0         ⎥\n",
       "⎢        4                             ⎥\n",
       "⎢                                      ⎥\n",
       "⎢                     2    2       2   ⎥\n",
       "⎢                    ℏ ⋅sin (φ)⋅sin (θ)⎥\n",
       "⎢        0           ──────────────────⎥\n",
       "⎣                            4         ⎦"
      ]
     },
     "metadata": {},
     "output_type": "display_data"
    },
    {
     "data": {
      "image/png": "[encoded data removed]",
      "text/latex": [
       "$\\displaystyle \\left[\\begin{matrix}\\frac{\\hbar^{2} \\cos^{2}{\\left(\\theta \\right)}}{4} & 0\\\\0 & \\frac{\\hbar^{2} \\cos^{2}{\\left(\\theta \\right)}}{4}\\end{matrix}\\right]$"
      ],
      "text/plain": [
       "⎡ 2    2               ⎤\n",
       "⎢ℏ ⋅cos (θ)            ⎥\n",
       "⎢──────────      0     ⎥\n",
       "⎢    4                 ⎥\n",
       "⎢                      ⎥\n",
       "⎢             2    2   ⎥\n",
       "⎢            ℏ ⋅cos (θ)⎥\n",
       "⎢    0       ──────────⎥\n",
       "⎣                4     ⎦"
      ]
     },
     "metadata": {},
     "output_type": "display_data"
    }
   ],
   "source": [
    "display((oqmec.Sx.rhs.doit()*nx)**2,\n",
    "        (oqmec.Sy.rhs.doit()*ny)**2,\n",
    "        (oqmec.Sz.rhs.doit()*nz)**2)"
   ]
  },
  {
   "cell_type": "markdown",
   "metadata": {},
   "source": [
    "$\\lambda(S_n^2) = \\sqrt{\\lambda(S_{nx}^2)+\\lambda(S_{ny}^2)+\\lambda(S_{nz}^2)}$ is true ?"
   ]
  },
  {
   "cell_type": "code",
   "execution_count": 10,
   "metadata": {},
   "outputs": [
    {
     "data": {
      "image/png": "[encoded data removed]",
      "text/latex": [
       "$\\displaystyle \\left[ \\frac{\\hbar^{2} \\sin^{2}{\\left(\\theta \\right)} \\cos^{2}{\\left(\\phi \\right)}}{4}\\right]$"
      ],
      "text/plain": [
       "⎡ 2    2       2   ⎤\n",
       "⎢ℏ ⋅sin (θ)⋅cos (φ)⎥\n",
       "⎢──────────────────⎥\n",
       "⎣        4         ⎦"
      ]
     },
     "metadata": {},
     "output_type": "display_data"
    },
    {
     "data": {
      "image/png": "[encoded data removed]",
      "text/latex": [
       "$\\displaystyle \\left[ \\frac{\\hbar^{2} \\sin^{2}{\\left(\\phi \\right)} \\sin^{2}{\\left(\\theta \\right)}}{4}\\right]$"
      ],
      "text/plain": [
       "⎡ 2    2       2   ⎤\n",
       "⎢ℏ ⋅sin (φ)⋅sin (θ)⎥\n",
       "⎢──────────────────⎥\n",
       "⎣        4         ⎦"
      ]
     },
     "metadata": {},
     "output_type": "display_data"
    },
    {
     "data": {
      "image/png": "[encoded data removed]",
      "text/latex": [
       "$\\displaystyle \\left[ \\frac{\\hbar^{2} \\cos^{2}{\\left(\\theta \\right)}}{4}\\right]$"
      ],
      "text/plain": [
       "⎡ 2    2   ⎤\n",
       "⎢ℏ ⋅cos (θ)⎥\n",
       "⎢──────────⎥\n",
       "⎣    4     ⎦"
      ]
     },
     "metadata": {},
     "output_type": "display_data"
    },
    {
     "data": {
      "image/png": "[encoded data removed]",
      "text/latex": [
       "$\\displaystyle \\sqrt{\\frac{\\hbar^{2} \\sin^{2}{\\left(\\phi \\right)} \\sin^{2}{\\left(\\theta \\right)}}{4} + \\frac{\\hbar^{2} \\sin^{2}{\\left(\\theta \\right)} \\cos^{2}{\\left(\\phi \\right)}}{4} + \\frac{\\hbar^{2} \\cos^{2}{\\left(\\theta \\right)}}{4}}$"
      ],
      "text/plain": [
       "     ______________________________________________________\n",
       "    ╱  2    2       2       2    2       2       2    2    \n",
       "   ╱  ℏ ⋅sin (φ)⋅sin (θ)   ℏ ⋅sin (θ)⋅cos (φ)   ℏ ⋅cos (θ) \n",
       "  ╱   ────────────────── + ────────────────── + ────────── \n",
       "╲╱            4                    4                4      "
      ]
     },
     "metadata": {},
     "output_type": "display_data"
    },
    {
     "data": {
      "image/png": "[encoded data removed]",
      "text/latex": [
       "$\\displaystyle \\frac{\\hbar}{2}$"
      ],
      "text/plain": [
       "ℏ\n",
       "─\n",
       "2"
      ]
     },
     "metadata": {},
     "output_type": "display_data"
    }
   ],
   "source": [
    "l1 = solve(det((oqmec.Sx.rhs.doit()*nx)**2 - S('l1')*eye(2)), S('l1'))\n",
    "l2 = solve(det((oqmec.Sy.rhs.doit()*ny)**2 - S('l2')*eye(2)), S('l2'))\n",
    "l3 = solve(det((oqmec.Sz.rhs.doit()*nz)**2 - S('l3')*eye(2)), S('l3'))\n",
    "l = sqrt(l1[0] + l2[0] + l3[0])\n",
    "ls = simplify(l)\n",
    "display(l1, l2, l3, l, ls)"
   ]
  },
  {
   "cell_type": "markdown",
   "metadata": {},
   "source": [
    "$S_n^2 = S_{nx}^2 + S_{ny}^2 + S_{nz}^2$\n",
    "\n",
    "$\\lambda(S_n^2) = \\sqrt{\\lambda(S_{nx}^2 + S_{ny}^2 + S_{nz}^2)}$ is true ?"
   ]
  },
  {
   "cell_type": "code",
   "execution_count": 9,
   "metadata": {},
   "outputs": [
    {
     "data": {
      "text/latex": [
       "$\\displaystyle S_n^2=$"
      ],
      "text/plain": [
       "<IPython.core.display.Math object>"
      ]
     },
     "metadata": {},
     "output_type": "display_data"
    },
    {
     "data": {
      "image/png": "[encoded data removed]",
      "text/latex": [
       "$\\displaystyle \\left[\\begin{matrix}\\frac{\\hbar^{2} \\sin^{2}{\\left(\\phi \\right)} \\sin^{2}{\\left(\\theta \\right)}}{4} + \\frac{\\hbar^{2} \\sin^{2}{\\left(\\theta \\right)} \\cos^{2}{\\left(\\phi \\right)}}{4} + \\frac{\\hbar^{2} \\cos^{2}{\\left(\\theta \\right)}}{4} & 0\\\\0 & \\frac{\\hbar^{2} \\sin^{2}{\\left(\\phi \\right)} \\sin^{2}{\\left(\\theta \\right)}}{4} + \\frac{\\hbar^{2} \\sin^{2}{\\left(\\theta \\right)} \\cos^{2}{\\left(\\phi \\right)}}{4} + \\frac{\\hbar^{2} \\cos^{2}{\\left(\\theta \\right)}}{4}\\end{matrix}\\right]$"
      ],
      "text/plain": [
       "⎡ 2    2       2       2    2       2       2    2                          \n",
       "⎢ℏ ⋅sin (φ)⋅sin (θ)   ℏ ⋅sin (θ)⋅cos (φ)   ℏ ⋅cos (θ)                       \n",
       "⎢────────────────── + ────────────────── + ──────────                       \n",
       "⎢        4                    4                4                            \n",
       "⎢                                                                           \n",
       "⎢                                                       2    2       2      \n",
       "⎢                                                      ℏ ⋅sin (φ)⋅sin (θ)   \n",
       "⎢                         0                            ────────────────── + \n",
       "⎣                                                              4            \n",
       "\n",
       "                               ⎤\n",
       "                               ⎥\n",
       "    0                          ⎥\n",
       "                               ⎥\n",
       "                               ⎥\n",
       " 2    2       2       2    2   ⎥\n",
       "ℏ ⋅sin (θ)⋅cos (φ)   ℏ ⋅cos (θ)⎥\n",
       "────────────────── + ──────────⎥\n",
       "        4                4     ⎦"
      ]
     },
     "metadata": {},
     "output_type": "display_data"
    },
    {
     "data": {
      "image/png": "[encoded data removed]",
      "text/latex": [
       "$\\displaystyle S^{2}_{n} = \\left[\\begin{matrix}\\frac{\\hbar^{2} \\sin^{2}{\\left(\\phi \\right)} \\sin^{2}{\\left(\\theta \\right)}}{4} + \\frac{\\hbar^{2} \\sin^{2}{\\left(\\theta \\right)} \\cos^{2}{\\left(\\phi \\right)}}{4} + \\frac{\\hbar^{2} \\cos^{2}{\\left(\\theta \\right)}}{4} & 0\\\\0 & \\frac{\\hbar^{2} \\sin^{2}{\\left(\\phi \\right)} \\sin^{2}{\\left(\\theta \\right)}}{4} + \\frac{\\hbar^{2} \\sin^{2}{\\left(\\theta \\right)} \\cos^{2}{\\left(\\phi \\right)}}{4} + \\frac{\\hbar^{2} \\cos^{2}{\\left(\\theta \\right)}}{4}\\end{matrix}\\right]$"
      ],
      "text/plain": [
       "      ⎡ 2    2       2       2    2       2       2    2                    \n",
       "      ⎢ℏ ⋅sin (φ)⋅sin (θ)   ℏ ⋅sin (θ)⋅cos (φ)   ℏ ⋅cos (θ)                 \n",
       "      ⎢────────────────── + ────────────────── + ──────────                 \n",
       "      ⎢        4                    4                4                      \n",
       "S²ₙ = ⎢                                                                     \n",
       "      ⎢                                                       2    2       2\n",
       "      ⎢                                                      ℏ ⋅sin (φ)⋅sin \n",
       "      ⎢                         0                            ───────────────\n",
       "      ⎣                                                              4      \n",
       "\n",
       "                                     ⎤\n",
       "                                     ⎥\n",
       "          0                          ⎥\n",
       "                                     ⎥\n",
       "                                     ⎥\n",
       "       2    2       2       2    2   ⎥\n",
       "(θ)   ℏ ⋅sin (θ)⋅cos (φ)   ℏ ⋅cos (θ)⎥\n",
       "─── + ────────────────── + ──────────⎥\n",
       "              4                4     ⎦"
      ]
     },
     "metadata": {},
     "output_type": "display_data"
    },
    {
     "data": {
      "text/plain": [
       "'Eigenvalues of Sn^2='"
      ]
     },
     "metadata": {},
     "output_type": "display_data"
    },
    {
     "data": {
      "image/png": "[encoded data removed]",
      "text/latex": [
       "$\\displaystyle \\left\\{ \\frac{\\hbar^{2}}{4} : 2\\right\\}$"
      ],
      "text/plain": [
       "⎧ 2   ⎫\n",
       "⎪ℏ    ⎪\n",
       "⎨──: 2⎬\n",
       "⎪4    ⎪\n",
       "⎩     ⎭"
      ]
     },
     "metadata": {},
     "output_type": "display_data"
    },
    {
     "data": {
      "text/plain": [
       "'Root of Eigenvalues of Sn^2='"
      ]
     },
     "metadata": {},
     "output_type": "display_data"
    },
    {
     "data": {
      "image/png": "[encoded data removed]",
      "text/latex": [
       "$\\displaystyle \\frac{\\hbar}{2}$"
      ],
      "text/plain": [
       "ℏ\n",
       "─\n",
       "2"
      ]
     },
     "metadata": {},
     "output_type": "display_data"
    }
   ],
   "source": [
    "Sn2 = (oqmec.Sx.rhs.doit()*nx)**2 + (oqmec.Sy.rhs.doit()*ny)**2 + (oqmec.Sz.rhs.doit()*nz)**2\n",
    "display(Math(r'S_n^2='), Sn2, \n",
    "        Eq(var('S_n^2'), UnevaluatedExpr(Sn2)), \n",
    "        \"Eigenvalues of Sn^2=\", Sn2.eigenvals(),\n",
    "        \"Root of Eigenvalues of Sn^2=\", sqrt(Sn2.eigenvals().popitem()[0]))"
   ]
  },
  {
   "cell_type": "markdown",
   "metadata": {},
   "source": [
    "## Magnetic Moment"
   ]
  },
  {
   "cell_type": "markdown",
   "metadata": {},
   "source": [
    "## Spatial Degrees of Freedom and Spin"
   ]
  },
  {
   "cell_type": "markdown",
   "metadata": {},
   "source": [
    "# Addition of Angular Momenta"
   ]
  },
  {
   "cell_type": "markdown",
   "metadata": {},
   "source": [
    "## Posing the Problem"
   ]
  },
  {
   "cell_type": "markdown",
   "metadata": {},
   "source": [
    "## Addition of Spin-1/2 Operators"
   ]
  },
  {
   "cell_type": "markdown",
   "metadata": {},
   "source": [
    "## Orbital Angular Momentum and Spin 1/2"
   ]
  },
  {
   "cell_type": "markdown",
   "metadata": {},
   "source": [
    "## The General Case"
   ]
  },
  {
   "cell_type": "markdown",
   "metadata": {},
   "source": [
    "# Approximation Methods for Stationary States"
   ]
  },
  {
   "cell_type": "markdown",
   "metadata": {},
   "source": [
    "## Time Independent Perturbation Theory (Rayleigh–Schr,dinger)"
   ]
  },
  {
   "cell_type": "markdown",
   "metadata": {},
   "source": [
    "### Nondegenerate Perturbation Theory"
   ]
  },
  {
   "cell_type": "markdown",
   "metadata": {},
   "source": [
    "**Griffiths2005 p6.2**"
   ]
  },
  {
   "cell_type": "code",
   "execution_count": 24,
   "metadata": {},
   "outputs": [
    {
     "name": "stdout",
     "output_type": "stream",
     "text": [
      "p6.2 Deformed Harmonic Oscillator\n"
     ]
    },
    {
     "data": {
      "text/latex": [
       "$\\displaystyle E_n^1=\\left\\langle\\psi_n^0\\left|H^{\\prime}\\right| \\psi_n^0\\right\\rangle$"
      ],
      "text/plain": [
       "<IPython.core.display.Math object>"
      ]
     },
     "metadata": {},
     "output_type": "display_data"
    },
    {
     "data": {
      "text/plain": [
       "'E_n^(1)'"
      ]
     },
     "metadata": {},
     "output_type": "display_data"
    },
    {
     "data": {
      "image/png": "[encoded data removed]",
      "text/latex": [
       "$\\displaystyle \\frac{\\hbar \\epsilon k n}{2 m w} + \\frac{\\hbar \\epsilon k}{4 m w}$"
      ],
      "text/plain": [
       "ℏ⋅ε⋅k⋅n   ℏ⋅ε⋅k\n",
       "─────── + ─────\n",
       " 2⋅m⋅w    4⋅m⋅w"
      ]
     },
     "metadata": {},
     "output_type": "display_data"
    },
    {
     "data": {
      "text/plain": [
       "'display'"
      ]
     },
     "metadata": {},
     "output_type": "display_data"
    },
    {
     "data": {
      "text/latex": [
       "$\\displaystyle E_n^2=\\sum_{m \\neq n} \\frac{\\left|\\left\\langle\\psi_m^0\\left|H^{\\prime}\\right| \\psi_n^0\\right\\rangle\\right|^2}{E_n^0-E_m^0}$"
      ],
      "text/plain": [
       "<IPython.core.display.Math object>"
      ]
     },
     "metadata": {},
     "output_type": "display_data"
    },
    {
     "data": {
      "text/plain": [
       "'E_n^(2)'"
      ]
     },
     "metadata": {},
     "output_type": "display_data"
    },
    {
     "data": {
      "image/png": "[encoded data removed]",
      "text/latex": [
       "$\\displaystyle \\frac{\\hbar^{2} \\epsilon^{2} k^{2} n \\left(n - 1\\right)}{16 m^{2} w^{2} \\left(- \\hbar w \\left(n - \\frac{3}{2}\\right) + \\hbar w \\left(n + \\frac{1}{2}\\right)\\right)} + \\frac{\\hbar^{2} \\epsilon^{2} k^{2} \\left(n + 1\\right) \\left(n + 2\\right)}{16 m^{2} w^{2} \\left(\\hbar w \\left(n + \\frac{1}{2}\\right) - \\hbar w \\left(n + \\frac{5}{2}\\right)\\right)}$"
      ],
      "text/plain": [
       "             2  2  2                                 2  2  2                \n",
       "            ℏ ⋅ε ⋅k ⋅n⋅(n - 1)                      ℏ ⋅ε ⋅k ⋅(n + 1)⋅(n + 2)\n",
       "───────────────────────────────────────── + ────────────────────────────────\n",
       "    2  2                                        2  2                        \n",
       "16⋅m ⋅w ⋅(-ℏ⋅w⋅(n - 3/2) + ℏ⋅w⋅(n + 1/2))   16⋅m ⋅w ⋅(ℏ⋅w⋅(n + 1/2) - ℏ⋅w⋅(n\n",
       "\n",
       "        \n",
       "        \n",
       "────────\n",
       "        \n",
       " + 5/2))"
      ]
     },
     "metadata": {},
     "output_type": "display_data"
    },
    {
     "data": {
      "text/plain": [
       "'display'"
      ]
     },
     "metadata": {},
     "output_type": "display_data"
    },
    {
     "data": {
      "text/latex": [
       "$\\displaystyle todo write E_n^3=\\sum_{m \\neq n} \\frac{\\left|\\left\\langle\\psi_m^0\\left|H^{\\prime}\\right| \\psi_n^0\\right\\rangle\\right|^2}{E_n^0-E_m^0}$"
      ],
      "text/plain": [
       "<IPython.core.display.Math object>"
      ]
     },
     "metadata": {},
     "output_type": "display_data"
    },
    {
     "data": {
      "text/latex": [
       "$\\displaystyle todo write E_n^3=\\sum_{m \\neq n} \\frac{\\left|\\left\\langle\\psi_m^0\\left|H^{\\prime}\\right| \\psi_n^0\\right\\rangle\\right|^2}{E_n^0-E_m^0}$"
      ],
      "text/plain": [
       "<IPython.core.display.Math object>"
      ]
     },
     "metadata": {},
     "output_type": "display_data"
    },
    {
     "data": {
      "text/plain": [
       "'Hp'"
      ]
     },
     "metadata": {},
     "output_type": "display_data"
    },
    {
     "data": {
      "image/png": "[encoded data removed]",
      "text/latex": [
       "$\\displaystyle \\frac{\\hbar \\epsilon k \\left(a + a^{\\dagger}\\right)^{2}}{4 m w}$"
      ],
      "text/plain": [
       "              2\n",
       "      ⎛     †⎞ \n",
       "ℏ⋅ε⋅k⋅⎝a + a ⎠ \n",
       "───────────────\n",
       "     4⋅m⋅w     "
      ]
     },
     "metadata": {},
     "output_type": "display_data"
    },
    {
     "data": {
      "text/plain": [
       "'En1='"
      ]
     },
     "metadata": {},
     "output_type": "display_data"
    },
    {
     "data": {
      "image/png": "[encoded data removed]",
      "text/latex": [
       "$\\displaystyle E^{(1)}_{n} = \\frac{\\hbar \\epsilon k n}{2 m w} + \\frac{\\hbar \\epsilon k}{4 m w}$"
      ],
      "text/plain": [
       "        ℏ⋅ε⋅k⋅n   ℏ⋅ε⋅k\n",
       "E⁽¹⁾ₙ = ─────── + ─────\n",
       "         2⋅m⋅w    4⋅m⋅w"
      ]
     },
     "metadata": {},
     "output_type": "display_data"
    },
    {
     "data": {
      "image/png": "[encoded data removed]",
      "text/latex": [
       "$\\displaystyle E^{(1)}_{n} = \\frac{\\hbar \\epsilon k \\left(2 n + 1\\right)}{4 m w}$"
      ],
      "text/plain": [
       "        ℏ⋅ε⋅k⋅(2⋅n + 1)\n",
       "E⁽¹⁾ₙ = ───────────────\n",
       "             4⋅m⋅w     "
      ]
     },
     "metadata": {},
     "output_type": "display_data"
    },
    {
     "data": {
      "text/plain": [
       "'En2='"
      ]
     },
     "metadata": {},
     "output_type": "display_data"
    },
    {
     "data": {
      "image/png": "[encoded data removed]",
      "text/latex": [
       "$\\displaystyle E^{(2)}_{n} = - \\frac{\\hbar \\epsilon^{2} k^{2} n}{8 m^{2} w^{3}} - \\frac{\\hbar \\epsilon^{2} k^{2}}{16 m^{2} w^{3}}$"
      ],
      "text/plain": [
       "             2  2        2  2 \n",
       "          ℏ⋅ε ⋅k ⋅n   ℏ⋅ε ⋅k  \n",
       "E⁽²⁾ₙ = - ───────── - ────────\n",
       "              2  3        2  3\n",
       "           8⋅m ⋅w     16⋅m ⋅w "
      ]
     },
     "metadata": {},
     "output_type": "display_data"
    },
    {
     "data": {
      "image/png": "[encoded data removed]",
      "text/latex": [
       "$\\displaystyle E^{(2)}_{n} = \\frac{\\hbar \\epsilon^{2} k^{2} \\left(- 2 n - 1\\right)}{16 m^{2} w^{3}}$"
      ],
      "text/plain": [
       "           2  2           \n",
       "        ℏ⋅ε ⋅k ⋅(-2⋅n - 1)\n",
       "E⁽²⁾ₙ = ──────────────────\n",
       "                 2  3     \n",
       "             16⋅m ⋅w      "
      ]
     },
     "metadata": {},
     "output_type": "display_data"
    },
    {
     "data": {
      "text/plain": [
       "'En3='"
      ]
     },
     "metadata": {},
     "output_type": "display_data"
    },
    {
     "data": {
      "image/png": "[encoded data removed]",
      "text/latex": [
       "$\\displaystyle E^{(3)}_{n} = \\frac{\\hbar \\epsilon^{3} k^{3} n}{16 m^{3} w^{5}} + \\frac{\\hbar \\epsilon^{3} k^{3}}{32 m^{3} w^{5}}$"
      ],
      "text/plain": [
       "           3  3        3  3 \n",
       "        ℏ⋅ε ⋅k ⋅n   ℏ⋅ε ⋅k  \n",
       "E⁽³⁾ₙ = ───────── + ────────\n",
       "             3  5       3  5\n",
       "         16⋅m ⋅w    32⋅m ⋅w "
      ]
     },
     "metadata": {},
     "output_type": "display_data"
    },
    {
     "data": {
      "image/png": "[encoded data removed]",
      "text/latex": [
       "$\\displaystyle E^{(3)}_{n} = \\frac{\\hbar \\epsilon^{3} k^{3} \\left(k_{2}^{\\frac{3}{2}} \\sqrt{n} \\sqrt{k_{2} - 1} \\sqrt{n - 1} \\delta_{k_{2}, n - 2} \\delta_{n, k_{2} - 2} + k_{2}^{\\frac{3}{2}} \\sqrt{k_{2} n^{2} + 3 k_{2} n + 2 k_{2} - n^{2} - 3 n - 2} \\delta_{k_{2}, n + 2} \\delta_{n, k_{2} - 2} - \\sqrt{k_{2}} n^{\\frac{3}{2}} \\sqrt{k_{2} - 1} \\sqrt{n - 1} \\delta_{k_{2}, n - 2} \\delta_{n, k_{2} - 2} - \\sqrt{k_{2}} n \\sqrt{k_{2} - 1} \\sqrt{n^{2} + 3 n + 2} \\delta_{k_{2}, n + 2} \\delta_{n, k_{2} - 2} + 4 k_{2}^{2} n \\delta_{k_{2} n} + 2 k_{2}^{2} \\delta_{k_{2} n} + k_{2} \\sqrt{n} \\sqrt{k_{2} + 1} \\sqrt{k_{2} + 2} \\sqrt{n - 1} \\delta_{k_{2}, n - 2} \\delta_{n, k_{2} + 2} - 4 k_{2} n^{2} \\delta_{k_{2} n} + k_{2} \\sqrt{k_{2} + 1} \\sqrt{k_{2} + 2} \\sqrt{n^{2} + 3 n + 2} \\delta_{k_{2}, n + 2} \\delta_{n, k_{2} + 2} + k_{2} \\delta_{k_{2} n} - n^{\\frac{3}{2}} \\sqrt{k_{2} + 1} \\sqrt{k_{2} + 2} \\sqrt{n - 1} \\delta_{k_{2}, n - 2} \\delta_{n, k_{2} + 2} - 2 n^{2} \\delta_{k_{2} n} - n \\sqrt{k_{2} + 1} \\sqrt{k_{2} + 2} \\sqrt{n^{2} + 3 n + 2} \\delta_{k_{2}, n + 2} \\delta_{n, k_{2} + 2} - n \\delta_{k_{2} n}\\right)}{32 m^{3} w^{5} \\left(k_{2}^{2} - 2 k_{2} n + n^{2}\\right)}$"
      ],
      "text/plain": [
       "                ⎛                                                           \n",
       "           3  3 ⎜  3/2      ________   _______                         3/2  \n",
       "        ℏ⋅ε ⋅k ⋅⎜k₂   ⋅√n⋅╲╱ k₂ - 1 ⋅╲╱ n - 1 ⋅δ        ⋅δ         + k₂   ⋅╲\n",
       "                ⎝                               k₂,n - 2  n,k₂ - 2          \n",
       "E⁽³⁾ₙ = ────────────────────────────────────────────────────────────────────\n",
       "                                                                            \n",
       "                                                                            \n",
       "\n",
       "  ______________________________________                                    \n",
       " ╱     2                    2                                    ____  3/2  \n",
       "╱  k₂⋅n  + 3⋅k₂⋅n + 2⋅k₂ - n  - 3⋅n - 2 ⋅δ        ⋅δ         - ╲╱ k₂ ⋅n   ⋅╲\n",
       "                                          k₂,n + 2  n,k₂ - 2                \n",
       "────────────────────────────────────────────────────────────────────────────\n",
       "                                                                            \n",
       "                                                                            \n",
       "\n",
       "                                                                 ___________\n",
       " ________   _______                         ____     ________   ╱  2        \n",
       "╱ k₂ - 1 ⋅╲╱ n - 1 ⋅δ        ⋅δ         - ╲╱ k₂ ⋅n⋅╲╱ k₂ - 1 ⋅╲╱  n  + 3⋅n +\n",
       "                     k₂,n - 2  n,k₂ - 2                                     \n",
       "────────────────────────────────────────────────────────────────────────────\n",
       "                                                                            \n",
       "                                                                            \n",
       "\n",
       "___                                                                         \n",
       "                              2               2                 ________   _\n",
       " 2 ⋅δ        ⋅δ         + 4⋅k₂ ⋅n⋅δ     + 2⋅k₂ ⋅δ     + k₂⋅√n⋅╲╱ k₂ + 1 ⋅╲╱ \n",
       "     k₂,n + 2  n,k₂ - 2            k₂,n          k₂,n                       \n",
       "────────────────────────────────────────────────────────────────────────────\n",
       "                                                        3  5 ⎛  2           \n",
       "                                                    32⋅m ⋅w ⋅⎝k₂  - 2⋅k₂⋅n +\n",
       "\n",
       "                                                                            \n",
       "_______   _______                             2              ________   ____\n",
       "k₂ + 2 ⋅╲╱ n - 1 ⋅δ        ⋅δ         - 4⋅k₂⋅n ⋅δ     + k₂⋅╲╱ k₂ + 1 ⋅╲╱ k₂ \n",
       "                   k₂,n - 2  n,k₂ + 2            k₂,n                       \n",
       "────────────────────────────────────────────────────────────────────────────\n",
       "  2⎞                                                                        \n",
       " n ⎠                                                                        \n",
       "\n",
       "        ______________                                                      \n",
       "____   ╱  2                                              3/2   ________   __\n",
       "+ 2 ⋅╲╱  n  + 3⋅n + 2 ⋅δ        ⋅δ         + k₂⋅δ     - n   ⋅╲╱ k₂ + 1 ⋅╲╱ k\n",
       "                        k₂,n + 2  n,k₂ + 2       k₂,n                       \n",
       "────────────────────────────────────────────────────────────────────────────\n",
       "                                                                            \n",
       "                                                                            \n",
       "\n",
       "                                                                            \n",
       "______   _______                          2             ________   ________ \n",
       "₂ + 2 ⋅╲╱ n - 1 ⋅δ        ⋅δ         - 2⋅n ⋅δ     - n⋅╲╱ k₂ + 1 ⋅╲╱ k₂ + 2 ⋅\n",
       "                  k₂,n - 2  n,k₂ + 2         k₂,n                           \n",
       "────────────────────────────────────────────────────────────────────────────\n",
       "                                                                            \n",
       "                                                                            \n",
       "\n",
       "   ______________                              ⎞\n",
       "  ╱  2                                         ⎟\n",
       "╲╱  n  + 3⋅n + 2 ⋅δ        ⋅δ         - n⋅δ    ⎟\n",
       "                   k₂,n + 2  n,k₂ + 2      k₂,n⎠\n",
       "────────────────────────────────────────────────\n",
       "                                                \n",
       "                                                "
      ]
     },
     "metadata": {},
     "output_type": "display_data"
    },
    {
     "data": {
      "text/plain": [
       "'En3='"
      ]
     },
     "metadata": {},
     "output_type": "display_data"
    },
    {
     "data": {
      "image/png": "[encoded data removed]",
      "text/latex": [
       "$\\displaystyle E^{(3)}_{n} = \\frac{\\hbar \\epsilon^{3} k^{3} n}{16 m^{3} w^{5}} + \\frac{\\hbar \\epsilon^{3} k^{3}}{32 m^{3} w^{5}}$"
      ],
      "text/plain": [
       "           3  3        3  3 \n",
       "        ℏ⋅ε ⋅k ⋅n   ℏ⋅ε ⋅k  \n",
       "E⁽³⁾ₙ = ───────── + ────────\n",
       "             3  5       3  5\n",
       "         16⋅m ⋅w    32⋅m ⋅w "
      ]
     },
     "metadata": {},
     "output_type": "display_data"
    },
    {
     "data": {
      "image/png": "[encoded data removed]",
      "text/latex": [
       "$\\displaystyle E^{(3)}_{n} = \\frac{\\hbar \\epsilon^{3} k^{3} \\cdot \\left(2 n + 1\\right)}{32 m^{3} w^{5}}$"
      ],
      "text/plain": [
       "           3  3          \n",
       "        ℏ⋅ε ⋅k ⋅(2⋅n + 1)\n",
       "E⁽³⁾ₙ = ─────────────────\n",
       "                 3  5    \n",
       "             32⋅m ⋅w     "
      ]
     },
     "metadata": {},
     "output_type": "display_data"
    }
   ],
   "source": [
    "print(\"p6.2 Deformed Harmonic Oscillator\")\n",
    "oqmec.__init__(\"position_space\")\n",
    "oqmec.verbose = True\n",
    "A,m,w,k,eps = symbols('A m w k epsilon', real=True)\n",
    "psi0c = oqmec.qho.nb\n",
    "psi0  = oqmec.qho.nk\n",
    "En0   = oqmec.qho.En\n",
    "Hp = S(1)/2*k*oqmec.qho.xop.rhs**2*eps\n",
    "En1 = oqmec.En_ND_PT(1, psi0c, psi0, Hp, En0)\n",
    "En2 = oqmec.En_ND_PT(2, psi0c, psi0, Hp, En0, k2min=n-2, k2max=n+2)\n",
    "En3full = oqmec.En_ND_PT(3, psi0c, psi0, Hp, En0)\n",
    "En3 = oqmec.En_ND_PT(3, psi0c, psi0, Hp, En0, k2min=n-3, k2max=n+3)\n",
    "\n",
    "pprints(\"Hp\", Hp,\n",
    "        \"En1=\", En1, simplify(En1),\n",
    "        \"En2=\", En2, simplify(En2),\n",
    "        \"En3=\", En3, simplify(En3full),\n",
    "        \"En3=\", En3, simplify(En3),\n",
    "        output_style = \"display\")"
   ]
  },
  {
   "cell_type": "markdown",
   "metadata": {},
   "source": [
    "### Perturbation Theory for Degenerate States"
   ]
  },
  {
   "cell_type": "markdown",
   "metadata": {},
   "source": [
    "## The Variational Principle"
   ]
  },
  {
   "cell_type": "markdown",
   "metadata": {},
   "source": [
    "## The WKB (Wentzel–Kramers–Brillouin) Method"
   ]
  },
  {
   "cell_type": "markdown",
   "metadata": {},
   "source": [
    "## Brillouin–Wigner Perturbation Theory"
   ]
  },
  {
   "cell_type": "markdown",
   "metadata": {},
   "source": [
    "# Relativistic Corrections"
   ]
  },
  {
   "cell_type": "markdown",
   "metadata": {},
   "source": [
    "## Relativistic Kinetic Energy"
   ]
  },
  {
   "cell_type": "markdown",
   "metadata": {},
   "source": [
    "## Spin–Orbit Coupling"
   ]
  },
  {
   "cell_type": "markdown",
   "metadata": {},
   "source": [
    "## The Darwin Term"
   ]
  },
  {
   "cell_type": "markdown",
   "metadata": {},
   "source": [
    "## Further Corrections"
   ]
  },
  {
   "cell_type": "markdown",
   "metadata": {},
   "source": [
    "### The Lamb Shift"
   ]
  },
  {
   "cell_type": "markdown",
   "metadata": {},
   "source": [
    "### Hyperfine Structure"
   ]
  },
  {
   "cell_type": "markdown",
   "metadata": {},
   "source": [
    "# Several-Electron Atoms"
   ]
  },
  {
   "cell_type": "markdown",
   "metadata": {},
   "source": [
    "## Identical Particles"
   ]
  },
  {
   "cell_type": "markdown",
   "metadata": {},
   "source": [
    "### Bosons and Fermions"
   ]
  },
  {
   "cell_type": "markdown",
   "metadata": {},
   "source": [
    "### Noninteracting Particles"
   ]
  },
  {
   "cell_type": "markdown",
   "metadata": {},
   "source": [
    "## Helium"
   ]
  },
  {
   "cell_type": "markdown",
   "metadata": {},
   "source": [
    "### Without the Electron–Electron Interaction"
   ]
  },
  {
   "cell_type": "markdown",
   "metadata": {},
   "source": [
    "### Energy Shift Due to the Repulsive Electron–Electron Interaction"
   ]
  },
  {
   "cell_type": "markdown",
   "metadata": {},
   "source": [
    "### The Variational Method"
   ]
  },
  {
   "cell_type": "markdown",
   "metadata": {},
   "source": [
    "## The Hartree and Hartree–Fock Approximations (Self-consistent Fields)"
   ]
  },
  {
   "cell_type": "markdown",
   "metadata": {},
   "source": [
    "### The Hartree Approximation"
   ]
  },
  {
   "cell_type": "markdown",
   "metadata": {},
   "source": [
    "### The Hartree–Fock Approximation"
   ]
  },
  {
   "cell_type": "markdown",
   "metadata": {},
   "source": [
    "## The Thomas–Fermi Method"
   ]
  },
  {
   "cell_type": "markdown",
   "metadata": {},
   "source": [
    "## Atomic Structure and Hund’s Rules"
   ]
  },
  {
   "cell_type": "markdown",
   "metadata": {},
   "source": [
    "# The Zeeman Effect and the Stark Effect"
   ]
  },
  {
   "cell_type": "markdown",
   "metadata": {},
   "source": [
    "## The Hydrogen Atom in a Magnetic Field"
   ]
  },
  {
   "cell_type": "markdown",
   "metadata": {},
   "source": [
    "### Weak Field"
   ]
  },
  {
   "cell_type": "markdown",
   "metadata": {},
   "source": [
    "### Strong Field, the Paschen–Back Effect"
   ]
  },
  {
   "cell_type": "markdown",
   "metadata": {},
   "source": [
    "### The Zeeman Effect for an Arbitrary Magnetic Field"
   ]
  },
  {
   "cell_type": "markdown",
   "metadata": {},
   "source": [
    "## Multielectron Atoms"
   ]
  },
  {
   "cell_type": "markdown",
   "metadata": {},
   "source": [
    "### Weak Magnetic Field"
   ]
  },
  {
   "cell_type": "markdown",
   "metadata": {},
   "source": [
    "### Strong Magnetic Field, the Paschen–Back Effect"
   ]
  },
  {
   "cell_type": "markdown",
   "metadata": {},
   "source": [
    "## The Stark Effect"
   ]
  },
  {
   "cell_type": "markdown",
   "metadata": {},
   "source": [
    "### Energy Shift of the Ground State"
   ]
  },
  {
   "cell_type": "markdown",
   "metadata": {},
   "source": [
    "### Excited States"
   ]
  },
  {
   "cell_type": "markdown",
   "metadata": {},
   "source": [
    "# Molecules"
   ]
  },
  {
   "cell_type": "markdown",
   "metadata": {},
   "source": [
    "## Qualitative Considerations"
   ]
  },
  {
   "cell_type": "markdown",
   "metadata": {},
   "source": [
    "## The Born–Oppenheimer Approximation"
   ]
  },
  {
   "cell_type": "markdown",
   "metadata": {},
   "source": [
    "## The Hydrogen Molecular Ion (H+2)"
   ]
  },
  {
   "cell_type": "markdown",
   "metadata": {},
   "source": [
    "## The Hydrogen Molecule H2"
   ]
  },
  {
   "cell_type": "markdown",
   "metadata": {},
   "source": [
    "## Energy Levels of a Two-Atom Molecule: Vibrational and Rotational Levels"
   ]
  },
  {
   "cell_type": "markdown",
   "metadata": {},
   "source": [
    "## The van der Waals Force"
   ]
  },
  {
   "cell_type": "markdown",
   "metadata": {},
   "source": [
    "# Time Dependent Phenomena"
   ]
  },
  {
   "cell_type": "markdown",
   "metadata": {},
   "source": [
    "## The Heisenberg Picture for a Time Dependent Hamiltonian"
   ]
  },
  {
   "cell_type": "markdown",
   "metadata": {},
   "source": [
    "## The Sudden Approximation"
   ]
  },
  {
   "cell_type": "markdown",
   "metadata": {},
   "source": [
    "## Time Dependent Perturbation Theory"
   ]
  },
  {
   "cell_type": "markdown",
   "metadata": {},
   "source": [
    "### Perturbative Expansion"
   ]
  },
  {
   "cell_type": "markdown",
   "metadata": {},
   "source": [
    "### First-Order Transitions"
   ]
  },
  {
   "cell_type": "markdown",
   "metadata": {},
   "source": [
    "### Transitions into a Continuous Spectrum, the Golden Rule"
   ]
  },
  {
   "cell_type": "markdown",
   "metadata": {},
   "source": [
    "### Periodic Perturbations"
   ]
  },
  {
   "cell_type": "markdown",
   "metadata": {},
   "source": [
    "## Interaction with the Radiation Field"
   ]
  },
  {
   "cell_type": "markdown",
   "metadata": {},
   "source": [
    "### The Hamiltonian"
   ]
  },
  {
   "cell_type": "markdown",
   "metadata": {},
   "source": [
    "### Quantization of the Radiation Field"
   ]
  },
  {
   "cell_type": "markdown",
   "metadata": {},
   "source": [
    "### Spontaneous Emission"
   ]
  },
  {
   "cell_type": "markdown",
   "metadata": {},
   "source": [
    "### Electric Dipole (E1) Transitions"
   ]
  },
  {
   "cell_type": "markdown",
   "metadata": {},
   "source": [
    "### Selection Rules for Electric Dipole (E1) Transitions"
   ]
  },
  {
   "cell_type": "markdown",
   "metadata": {},
   "source": [
    "### The Lifetime for Electric Dipole Transitions"
   ]
  },
  {
   "cell_type": "markdown",
   "metadata": {},
   "source": [
    "### Electric Quadrupole and Magnetic Dipole Transitions"
   ]
  },
  {
   "cell_type": "markdown",
   "metadata": {},
   "source": [
    "### Absorption and Induced Emission"
   ]
  },
  {
   "cell_type": "markdown",
   "metadata": {},
   "source": [
    "# The Central Potential II"
   ]
  },
  {
   "cell_type": "markdown",
   "metadata": {},
   "source": [
    "## The Schr,dinger Equation for a Spherically Symmetric Square Well"
   ]
  },
  {
   "cell_type": "markdown",
   "metadata": {},
   "source": [
    "## Spherical Bessel Functions"
   ]
  },
  {
   "cell_type": "markdown",
   "metadata": {},
   "source": [
    "## Bound States of the Spherical Potential Well"
   ]
  },
  {
   "cell_type": "markdown",
   "metadata": {},
   "source": [
    "## The Limiting Case of a Deep Potential Well"
   ]
  },
  {
   "cell_type": "markdown",
   "metadata": {},
   "source": [
    "## Continuum Solutions for the Potential Well"
   ]
  },
  {
   "cell_type": "markdown",
   "metadata": {},
   "source": [
    "## Expansion of Plane Waves in Spherical Harmonics"
   ]
  },
  {
   "cell_type": "markdown",
   "metadata": {},
   "source": [
    "# Scattering Theory"
   ]
  },
  {
   "cell_type": "markdown",
   "metadata": {},
   "source": [
    "## Scattering of a Wave Packet and Stationary States"
   ]
  },
  {
   "cell_type": "markdown",
   "metadata": {},
   "source": [
    "### The Wave Packet"
   ]
  },
  {
   "cell_type": "markdown",
   "metadata": {},
   "source": [
    "### Formal Solution of the Time Independent Schr,dinger Equation"
   ]
  },
  {
   "cell_type": "markdown",
   "metadata": {},
   "source": [
    "### Asymptotic Behavior of the Wave Packet"
   ]
  },
  {
   "cell_type": "markdown",
   "metadata": {},
   "source": [
    "## The Scattering Cross Section"
   ]
  },
  {
   "cell_type": "markdown",
   "metadata": {},
   "source": [
    "## Partial Waves"
   ]
  },
  {
   "cell_type": "markdown",
   "metadata": {},
   "source": [
    "## The Optical Theorem"
   ]
  },
  {
   "cell_type": "markdown",
   "metadata": {},
   "source": [
    "## The Born Approximation"
   ]
  },
  {
   "cell_type": "markdown",
   "metadata": {},
   "source": [
    "## Inelastic Scattering"
   ]
  },
  {
   "cell_type": "markdown",
   "metadata": {},
   "source": [
    "## Scattering Phase Shifts"
   ]
  },
  {
   "cell_type": "markdown",
   "metadata": {},
   "source": [
    "## Resonance Scattering from a Potential Well"
   ]
  },
  {
   "cell_type": "markdown",
   "metadata": {},
   "source": [
    "## Low Energy s-Wave Scattering – the Scattering Length"
   ]
  },
  {
   "cell_type": "markdown",
   "metadata": {},
   "source": [
    "## Scattering at High Energies"
   ]
  },
  {
   "cell_type": "markdown",
   "metadata": {},
   "source": [
    "## Additional Remarks"
   ]
  },
  {
   "cell_type": "markdown",
   "metadata": {},
   "source": [
    "### Transformation to the Laboratory Frame"
   ]
  },
  {
   "cell_type": "markdown",
   "metadata": {},
   "source": [
    "### The Coulomb Potential"
   ]
  },
  {
   "cell_type": "markdown",
   "metadata": {},
   "source": [
    "# Supersymmetric Quantum Theory"
   ]
  },
  {
   "cell_type": "markdown",
   "metadata": {},
   "source": [
    "## Generalized Ladder Operators"
   ]
  },
  {
   "cell_type": "markdown",
   "metadata": {},
   "source": [
    "## Examples"
   ]
  },
  {
   "cell_type": "markdown",
   "metadata": {},
   "source": [
    "### Reflection-Free Potentials"
   ]
  },
  {
   "cell_type": "markdown",
   "metadata": {},
   "source": [
    "### The δ-function"
   ]
  },
  {
   "cell_type": "markdown",
   "metadata": {},
   "source": [
    "### The Harmonic Oscillator"
   ]
  },
  {
   "cell_type": "markdown",
   "metadata": {},
   "source": [
    "### The Coulomb Potential"
   ]
  },
  {
   "cell_type": "markdown",
   "metadata": {},
   "source": [
    "## Additional Remarks"
   ]
  },
  {
   "cell_type": "markdown",
   "metadata": {},
   "source": [
    "# State and Measurement in Quantum Mechanics"
   ]
  },
  {
   "cell_type": "markdown",
   "metadata": {},
   "source": [
    "## The Quantum Mechanical State, Causality, and Determinism"
   ]
  },
  {
   "cell_type": "markdown",
   "metadata": {},
   "source": [
    "## The Density Matrix"
   ]
  },
  {
   "cell_type": "markdown",
   "metadata": {},
   "source": [
    "### The Density Matrix for Pure and Mixed Ensembles"
   ]
  },
  {
   "cell_type": "markdown",
   "metadata": {},
   "source": [
    "### The von Neumann Equation"
   ]
  },
  {
   "cell_type": "markdown",
   "metadata": {},
   "source": [
    "### Spin-1/2 Systems"
   ]
  },
  {
   "cell_type": "markdown",
   "metadata": {},
   "source": [
    "## The Measurement Process"
   ]
  },
  {
   "cell_type": "markdown",
   "metadata": {},
   "source": [
    "### The Stern–Gerlach Experiment"
   ]
  },
  {
   "cell_type": "markdown",
   "metadata": {},
   "source": [
    "### The Quasiclassical Solution"
   ]
  },
  {
   "cell_type": "markdown",
   "metadata": {},
   "source": [
    "### The Stern–Gerlach Experiment as an Idealized Measurement"
   ]
  },
  {
   "cell_type": "markdown",
   "metadata": {},
   "source": [
    "### A General Experiment and Coupling to the Environment"
   ]
  },
  {
   "cell_type": "markdown",
   "metadata": {},
   "source": [
    "### Influence of an Observation on the Time Evolution"
   ]
  },
  {
   "cell_type": "markdown",
   "metadata": {},
   "source": [
    "### Phase Relations in the Stern–Gerlach Experiment"
   ]
  },
  {
   "cell_type": "markdown",
   "metadata": {},
   "source": [
    "## The EPR Argument, Hidden Variables, the Bell Inequality"
   ]
  },
  {
   "cell_type": "markdown",
   "metadata": {},
   "source": [
    "### The EPR (Einstein–Podolsky–Rosen) Argument"
   ]
  },
  {
   "cell_type": "markdown",
   "metadata": {},
   "source": [
    "### The Bell Inequality"
   ]
  }
 ],
 "metadata": {
  "kernelspec": {
   "display_name": "Python 3 (ipykernel)",
   "language": "python",
   "name": "python3"
  },
  "language_info": {
   "codemirror_mode": {
    "name": "ipython",
    "version": 3
   },
   "file_extension": ".py",
   "mimetype": "text/x-python",
   "name": "python",
   "nbconvert_exporter": "python",
   "pygments_lexer": "ipython3",
   "version": "3.8.10"
  },
  "nbTranslate": {
   "displayLangs": [
    "en",
    "tr"
   ],
   "hotkey": "alt-t",
   "langInMainMenu": true,
   "sourceLang": "tr",
   "targetLang": "en",
   "useGoogleTranslate": true
  },
  "toc": {
   "base_numbering": 1,
   "nav_menu": {},
   "number_sections": false,
   "sideBar": true,
   "skip_h1_title": false,
   "title_cell": "Table of Contents",
   "title_sidebar": "Contents",
   "toc_cell": false,
   "toc_position": {},
   "toc_section_display": true,
   "toc_window_display": false
  },
  "toc-autonumbering": true,
  "toc-showcode": false,
  "toc-showtags": false
 },
 "nbformat": 4,
 "nbformat_minor": 4
}
